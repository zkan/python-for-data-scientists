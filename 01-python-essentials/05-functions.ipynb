{
 "cells": [
  {
   "cell_type": "markdown",
   "metadata": {},
   "source": [
    "# Intro to Python\n",
    "\n",
    "**Nice resource:** [Learn Python The Hard Way](http://learnpythonthehardway.org/book/)\n",
    "\n",
    "**Outline:**\n",
    "\n",
    "\n",
    "* [Functions](#Functions)\n",
    "* ใช้ map, filter, reduce\n",
    "* ใช้ Lamda"
   ]
  },
  {
   "cell_type": "markdown",
   "metadata": {},
   "source": [
    "## Functions"
   ]
  },
  {
   "cell_type": "code",
   "execution_count": 104,
   "metadata": {},
   "outputs": [
    {
     "name": "stdout",
     "output_type": "stream",
     "text": [
      "hi 1 23\n"
     ]
    }
   ],
   "source": [
    "print('hi', 1, 23)"
   ]
  },
  {
   "cell_type": "code",
   "execution_count": 105,
   "metadata": {},
   "outputs": [
    {
     "data": {
      "text/plain": [
       "3"
      ]
     },
     "execution_count": 105,
     "metadata": {},
     "output_type": "execute_result"
    }
   ],
   "source": [
    "l = [1, 2, 3]\n",
    "len(l)"
   ]
  },
  {
   "cell_type": "code",
   "execution_count": 106,
   "metadata": {},
   "outputs": [
    {
     "name": "stdout",
     "output_type": "stream",
     "text": [
      "Hello\n",
      "hi\n"
     ]
    }
   ],
   "source": [
    "def just_hello():\n",
    "    print('Hello')\n",
    "    print('hi')\n",
    "    \n",
    "just_hello()"
   ]
  },
  {
   "cell_type": "code",
   "execution_count": 107,
   "metadata": {},
   "outputs": [
    {
     "name": "stdout",
     "output_type": "stream",
     "text": [
      "Hello\n",
      "hi\n",
      "Hello\n",
      "hi\n",
      "Hello\n",
      "hi\n"
     ]
    }
   ],
   "source": [
    "just_hello()\n",
    "just_hello()\n",
    "just_hello()"
   ]
  },
  {
   "cell_type": "code",
   "execution_count": 108,
   "metadata": {},
   "outputs": [
    {
     "name": "stdout",
     "output_type": "stream",
     "text": [
      "Hello, Kan\n"
     ]
    }
   ],
   "source": [
    "def hello(name):\n",
    "    print('Hello, ' + name)\n",
    "    \n",
    "hello('Kan')"
   ]
  },
  {
   "cell_type": "code",
   "execution_count": 109,
   "metadata": {},
   "outputs": [
    {
     "name": "stdout",
     "output_type": "stream",
     "text": [
      "Hello, Python\n",
      "Hello, World\n"
     ]
    }
   ],
   "source": [
    "hello('Python')\n",
    "hello('World')"
   ]
  },
  {
   "cell_type": "code",
   "execution_count": 110,
   "metadata": {},
   "outputs": [
    {
     "name": "stdout",
     "output_type": "stream",
     "text": [
      "Your input is 1 2 3\n"
     ]
    }
   ],
   "source": [
    "def print_something(a, b, c):\n",
    "    print('Your input is', a, b, c)\n",
    "    \n",
    "print_something(1, 2, 3)"
   ]
  },
  {
   "cell_type": "code",
   "execution_count": 111,
   "metadata": {},
   "outputs": [
    {
     "data": {
      "text/plain": [
       "3.0"
      ]
     },
     "execution_count": 111,
     "metadata": {},
     "output_type": "execute_result"
    }
   ],
   "source": [
    "(1 + 2 + 3 + 4 + 5)/5"
   ]
  },
  {
   "cell_type": "code",
   "execution_count": 112,
   "metadata": {},
   "outputs": [
    {
     "data": {
      "text/plain": [
       "3.4"
      ]
     },
     "execution_count": 112,
     "metadata": {},
     "output_type": "execute_result"
    }
   ],
   "source": [
    "(3 + 5 + 6 + 1 + 2)/5"
   ]
  },
  {
   "cell_type": "code",
   "execution_count": 114,
   "metadata": {},
   "outputs": [
    {
     "name": "stdout",
     "output_type": "stream",
     "text": [
      "3.0\n"
     ]
    }
   ],
   "source": [
    "def get_the_mean(a, b, c, d, f):\n",
    "    return (a + b + c + d + f) / 5\n",
    "\n",
    "print(get_the_mean(1, 2, 3, 4, 5))"
   ]
  },
  {
   "cell_type": "code",
   "execution_count": 116,
   "metadata": {},
   "outputs": [
    {
     "name": "stdout",
     "output_type": "stream",
     "text": [
      "4.8\n"
     ]
    }
   ],
   "source": [
    "print(get_the_mean(10, 2, 2, 5, 5))"
   ]
  },
  {
   "cell_type": "markdown",
   "metadata": {},
   "source": [
    "## Loops"
   ]
  },
  {
   "cell_type": "code",
   "execution_count": 117,
   "metadata": {},
   "outputs": [
    {
     "name": "stdout",
     "output_type": "stream",
     "text": [
      "A fruit of type: apples\n",
      "A fruit of type: oranges\n",
      "A fruit of type: pears\n",
      "A fruit of type: apricots\n"
     ]
    }
   ],
   "source": [
    "fruits = ['apples', 'oranges', 'pears', 'apricots']\n",
    "for each in fruits:\n",
    "    print(\"A fruit of type: \" + each)"
   ]
  },
  {
   "cell_type": "code",
   "execution_count": 118,
   "metadata": {},
   "outputs": [
    {
     "name": "stdout",
     "output_type": "stream",
     "text": [
      "1 1\n",
      "3 2\n",
      "6 3\n",
      "10 4\n",
      "15 5\n",
      "Total 15\n"
     ]
    }
   ],
   "source": [
    "numbers = [1, 2, 3, 4, 5]\n",
    "total = 0\n",
    "for each in numbers:\n",
    "    total = total + each\n",
    "    print(total, each)\n",
    "    \n",
    "print(\"Total %d\" % total)"
   ]
  },
  {
   "cell_type": "code",
   "execution_count": 119,
   "metadata": {},
   "outputs": [
    {
     "data": {
      "text/plain": [
       "'Total 15'"
      ]
     },
     "execution_count": 119,
     "metadata": {},
     "output_type": "execute_result"
    }
   ],
   "source": [
    "\"Total \" + str(total)"
   ]
  },
  {
   "cell_type": "code",
   "execution_count": 120,
   "metadata": {},
   "outputs": [
    {
     "name": "stdout",
     "output_type": "stream",
     "text": [
      "At the top i is 0\n",
      "Numbers now:  [0]\n",
      "At the bottom i is 1\n",
      "At the top i is 1\n",
      "Numbers now:  [0, 1]\n",
      "At the bottom i is 2\n",
      "At the top i is 2\n",
      "Numbers now:  [0, 1, 2]\n",
      "At the bottom i is 3\n"
     ]
    }
   ],
   "source": [
    "i = 0\n",
    "numbers = []\n",
    "\n",
    "while i < 3:\n",
    "    print(\"At the top i is %d\" % i)\n",
    "    numbers.append(i)\n",
    "\n",
    "    i = i + 1\n",
    "    print(\"Numbers now: \", numbers)\n",
    "    print(\"At the bottom i is %d\" % i)"
   ]
  },
  {
   "cell_type": "code",
   "execution_count": 123,
   "metadata": {},
   "outputs": [
    {
     "name": "stdout",
     "output_type": "stream",
     "text": [
      "5\n",
      "6\n",
      "7\n",
      "8\n",
      "9\n",
      "10\n",
      "11\n",
      "12\n",
      "13\n",
      "14\n"
     ]
    }
   ],
   "source": [
    "for each in range(5, 15):\n",
    "    print(each)"
   ]
  }
 ],
 "metadata": {
  "anaconda-cloud": {},
  "kernelspec": {
   "display_name": "Python 3",
   "language": "python",
   "name": "python3"
  },
  "language_info": {
   "codemirror_mode": {
    "name": "ipython",
    "version": 3
   },
   "file_extension": ".py",
   "mimetype": "text/x-python",
   "name": "python",
   "nbconvert_exporter": "python",
   "pygments_lexer": "ipython3",
   "version": "3.7.1"
  }
 },
 "nbformat": 4,
 "nbformat_minor": 1
}

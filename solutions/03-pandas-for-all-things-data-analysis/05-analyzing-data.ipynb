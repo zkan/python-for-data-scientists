{
 "cells": [
  {
   "cell_type": "markdown",
   "metadata": {},
   "source": [
    "# Pandas for Data Analysis: Analyzing Data"
   ]
  },
  {
   "cell_type": "markdown",
   "metadata": {
    "collapsed": true
   },
   "source": [
    "## Outline:\n",
    "\n",
    "* [Knowing Basic Stats](#Knowing-Basic-Stats)\n",
    "* [Grouping](#Grouping)\n",
    "* [Creating Pivot Table](#Creating-Pivot-Table)\n",
    "* [Analyzing Public Datasets](#Analyzing-Public-Datasets)\n"
   ]
  },
  {
   "cell_type": "markdown",
   "metadata": {},
   "source": [
    "## Knowing Basic Stats"
   ]
  },
  {
   "cell_type": "code",
   "execution_count": null,
   "metadata": {},
   "outputs": [],
   "source": [
    "import pandas as pd"
   ]
  },
  {
   "cell_type": "code",
   "execution_count": null,
   "metadata": {},
   "outputs": [],
   "source": [
    "data = {\n",
    "    'age': [25, 30, 35],\n",
    "    'savings': [3000, 3100, 1500]\n",
    "}\n",
    "df = pd.DataFrame(data=data)"
   ]
  },
  {
   "cell_type": "code",
   "execution_count": null,
   "metadata": {},
   "outputs": [],
   "source": [
    "df.describe()"
   ]
  },
  {
   "cell_type": "code",
   "execution_count": null,
   "metadata": {},
   "outputs": [],
   "source": [
    "df.cov()"
   ]
  },
  {
   "cell_type": "code",
   "execution_count": null,
   "metadata": {},
   "outputs": [],
   "source": [
    "df.corr()"
   ]
  },
  {
   "cell_type": "markdown",
   "metadata": {},
   "source": [
    "### Challenges"
   ]
  },
  {
   "cell_type": "markdown",
   "metadata": {},
   "source": [
    "จาก Series ของค่าไฟปี 2015 โดยแต่ละเดือนมีค่าไฟตามนี้\n",
    "\n",
    "* January มียอด 3,000 บาท\n",
    "* February มียอด 3,512 บาท\n",
    "* March มียอด 1,900 บาท\n",
    "* April มียอด 1,988 บาท\n",
    "* May มียอด 3,012 บาท\n",
    "* June มียอด 2,912.35 บาท\n",
    "* July มียอด 3,100 บาท\n",
    "* August มียอด 2,501.02 บาท\n",
    "* September มียอด 3,309 บาท\n",
    "* October มียอด 2,087 บาท\n",
    "* November มียอด 4,223 บาท\n",
    "* December มียอด 3,566 บาท\n",
    "\n",
    "Hint: ให้ใช้เดือนเป็น index และยอดเงินเป็นค่าของแต่ละ index\n",
    "\n",
    "ลองตอบคำถามต่อไปนี้\n",
    "1. รวมทั้งปีแล้วต้องจ่ายค่าไฟเท่าไหร่? เฉลี่ยเดือนละเท่าไหร่?\n",
    "2. เดือนไหนจ่ายค่าไฟเยอะสุด?"
   ]
  },
  {
   "cell_type": "code",
   "execution_count": null,
   "metadata": {},
   "outputs": [],
   "source": [
    "data = {\n",
    "    'January': 3000,\n",
    "    'February': 3512,\n",
    "    'March': 1900,\n",
    "    'April': 1988,\n",
    "    'May': 3012,\n",
    "    'June': 2912,\n",
    "    'July': 3100,\n",
    "    'August': 2501,\n",
    "    'September': 3309,\n",
    "    'October': 2087,\n",
    "    'November': 4233,\n",
    "    'December': 3566\n",
    "}\n",
    "expenses = pd.Series(data)\n",
    "expenses"
   ]
  },
  {
   "cell_type": "code",
   "execution_count": null,
   "metadata": {},
   "outputs": [],
   "source": [
    "expenses.sum()"
   ]
  },
  {
   "cell_type": "code",
   "execution_count": null,
   "metadata": {},
   "outputs": [],
   "source": [
    "expenses.mean()"
   ]
  },
  {
   "cell_type": "code",
   "execution_count": null,
   "metadata": {},
   "outputs": [],
   "source": [
    "expenses.idxmax()"
   ]
  },
  {
   "cell_type": "markdown",
   "metadata": {},
   "source": [
    "จาก DataFrame ข้อมูลเงินเดือนของพนักงาน\n",
    "\n",
    "คนที่ 1\n",
    "\n",
    "* ชื่อ William\n",
    "* อาชีพ Chief Investment Officer\n",
    "* เงินเดือนทั้งปี 507,831.60 USD\n",
    "\n",
    "คนที่ 2\n",
    "\n",
    "* ชื่อ Ellen\n",
    "* อาชีพ Asst Med Examiner\n",
    "* เงินเดือนทั้งปี 279,311.10 USD\n",
    "\n",
    "คนที่ 3\n",
    "\n",
    "* ชื่อ Barbara\n",
    "* อาชีพ Dept Head\n",
    "* รายได้ทั้งปี 307,580.34 USD\n",
    "\n",
    "ลองตอบคำถามต่อไปนี้\n",
    "1. ใครได้รายได้ต่อปีเยอะที่สุด?\n",
    "2. ใครได้รายได้ต่อปีต่ำกว่า 300,000 USD บ้าง?"
   ]
  },
  {
   "cell_type": "code",
   "execution_count": null,
   "metadata": {},
   "outputs": [],
   "source": [
    "data = {\n",
    "    'name': ['William', 'Ellen', 'Barbara'],\n",
    "    'occupation': ['Chief Investment Officer', 'Asst Med Examiner', 'Dept Head'],\n",
    "    'income': [507831.60, 279311.10, 307580.34]\n",
    "}\n",
    "income = pd.DataFrame(data=data)\n",
    "income"
   ]
  },
  {
   "cell_type": "code",
   "execution_count": null,
   "metadata": {},
   "outputs": [],
   "source": [
    "income.loc[income.income.idxmax()]"
   ]
  },
  {
   "cell_type": "code",
   "execution_count": null,
   "metadata": {},
   "outputs": [],
   "source": [
    "income[income.income > 300000]"
   ]
  },
  {
   "cell_type": "markdown",
   "metadata": {},
   "source": [
    "---"
   ]
  },
  {
   "cell_type": "markdown",
   "metadata": {},
   "source": [
    "## Grouping"
   ]
  },
  {
   "cell_type": "code",
   "execution_count": null,
   "metadata": {},
   "outputs": [],
   "source": [
    "import pandas as pd"
   ]
  },
  {
   "cell_type": "code",
   "execution_count": null,
   "metadata": {},
   "outputs": [],
   "source": [
    "adult_data_url = 'https://archive.ics.uci.edu/ml/machine-learning-databases/adult/adult.data'\n",
    "columns = ['age', 'Work Class', 'fnlwgt', 'education', 'education-num', 'marital-status', 'occupation', 'relationship', 'race', 'sex', 'capital-gain', 'capital-loss', 'hours-per-week', 'native-country', 'Money Per Year']\n",
    "adult = pd.read_csv(adult_data_url, names=columns)"
   ]
  },
  {
   "cell_type": "code",
   "execution_count": null,
   "metadata": {},
   "outputs": [],
   "source": [
    "adult.head()"
   ]
  },
  {
   "cell_type": "code",
   "execution_count": null,
   "metadata": {},
   "outputs": [],
   "source": [
    "adult.groupby('education').agg('mean').tail()"
   ]
  },
  {
   "cell_type": "markdown",
   "metadata": {},
   "source": [
    "ถ้าการทำ Chaining แบบด้านบน ดูแล้วอ่านลำบาก เราสามารถแยกคำสั่งเก็บใส่ตัวแปรแบบด้านล่างนี้ได้ มีค่าเท่ากัน"
   ]
  },
  {
   "cell_type": "code",
   "execution_count": null,
   "metadata": {},
   "outputs": [],
   "source": [
    "adult_group = adult.groupby('education')\n",
    "adult_group.mean().tail()"
   ]
  },
  {
   "cell_type": "code",
   "execution_count": null,
   "metadata": {},
   "outputs": [],
   "source": [
    "adult.groupby(['education', 'sex']).mean().head()"
   ]
  },
  {
   "cell_type": "code",
   "execution_count": null,
   "metadata": {},
   "outputs": [],
   "source": [
    "adult.groupby(['education', 'sex']).mean().head(30)"
   ]
  },
  {
   "cell_type": "code",
   "execution_count": null,
   "metadata": {},
   "outputs": [],
   "source": [
    "adult.columns = adult.columns.str.lower().str.replace(' ', '-')\n",
    "adult[['capital-gain', 'capital-loss', 'money-per-year']].groupby('money-per-year').mean()"
   ]
  },
  {
   "cell_type": "markdown",
   "metadata": {},
   "source": [
    "### Challenges"
   ]
  },
  {
   "cell_type": "markdown",
   "metadata": {},
   "source": [
    "ลองจัดกลุ่มตาม race แล้วดูค่าเฉลี่ยของอายุ"
   ]
  },
  {
   "cell_type": "code",
   "execution_count": null,
   "metadata": {},
   "outputs": [],
   "source": [
    "adult.groupby('race').age.mean()"
   ]
  },
  {
   "cell_type": "markdown",
   "metadata": {},
   "source": [
    "ลองจัดกลุ่มตาม education, occupation, race และ sex แล้วลองดูว่าเค้าทำงานเฉลี่ยแล้วกี่ ชม. ต่อสัปดาห์"
   ]
  },
  {
   "cell_type": "code",
   "execution_count": null,
   "metadata": {},
   "outputs": [],
   "source": [
    "adult.groupby(['education', 'occupation', 'race', 'sex'])['hours-per-week'].mean()"
   ]
  },
  {
   "cell_type": "markdown",
   "metadata": {},
   "source": [
    "---"
   ]
  },
  {
   "cell_type": "markdown",
   "metadata": {},
   "source": [
    "## Creating Pivot Table"
   ]
  },
  {
   "cell_type": "markdown",
   "metadata": {},
   "source": [
    "<img src=\"images/pandas_pivot.png\" width=\"700\" />\n",
    "\n",
    "Credit: http://jalammar.github.io/visualizing-pandas-pivoting-and-reshaping/"
   ]
  },
  {
   "cell_type": "code",
   "execution_count": null,
   "metadata": {},
   "outputs": [],
   "source": [
    "import pandas as pd"
   ]
  },
  {
   "cell_type": "code",
   "execution_count": null,
   "metadata": {},
   "outputs": [],
   "source": [
    "data = {\n",
    "    'foo': ['one', 'one', 'one', 'two', 'two', 'two'],\n",
    "    'bar': ['A', 'B', 'C', 'A', 'B', 'C'],\n",
    "    'baz': [1, 2, 3, 4, 5, 6],\n",
    "    'zoo': ['x', 'y', 'z', 'q', 'w', 't']\n",
    "}\n",
    "df = pd.DataFrame(data=data)"
   ]
  },
  {
   "cell_type": "code",
   "execution_count": null,
   "metadata": {},
   "outputs": [],
   "source": [
    "df.head()"
   ]
  },
  {
   "cell_type": "code",
   "execution_count": null,
   "metadata": {},
   "outputs": [],
   "source": [
    "df.pivot(index='foo', columns='bar', values='baz')"
   ]
  },
  {
   "cell_type": "markdown",
   "metadata": {},
   "source": [
    "ลองเล่นข้อมูล Sales Funnel จาก [Practical Business Python](https://pbpython.com/)"
   ]
  },
  {
   "cell_type": "code",
   "execution_count": null,
   "metadata": {},
   "outputs": [],
   "source": [
    "df = pd.read_excel('data/sales-funnel.xlsx')"
   ]
  },
  {
   "cell_type": "code",
   "execution_count": null,
   "metadata": {},
   "outputs": [],
   "source": [
    "df.head()"
   ]
  },
  {
   "cell_type": "code",
   "execution_count": null,
   "metadata": {},
   "outputs": [],
   "source": [
    "pd.pivot_table(df, index=['Name', 'Product'])"
   ]
  },
  {
   "cell_type": "markdown",
   "metadata": {},
   "source": [
    "ถ้าเราต้องการคำนวนค่าเพิ่มเติม เราสามารถเอาฟังก์ชั่นของ Numpy มาใช้ร่วมได้"
   ]
  },
  {
   "cell_type": "code",
   "execution_count": null,
   "metadata": {},
   "outputs": [],
   "source": [
    "import numpy as np"
   ]
  },
  {
   "cell_type": "code",
   "execution_count": null,
   "metadata": {},
   "outputs": [],
   "source": [
    "pd.pivot_table(df, index=['Product'], values=['Price'], aggfunc=[np.sum, np.mean])"
   ]
  },
  {
   "cell_type": "code",
   "execution_count": null,
   "metadata": {},
   "outputs": [],
   "source": [
    "pd.pivot_table(df, index=['Name', 'Product'], columns=['Status'], values=['Price'])"
   ]
  },
  {
   "cell_type": "code",
   "execution_count": null,
   "metadata": {},
   "outputs": [],
   "source": [
    "pd.pivot_table(df, index=['Name', 'Product'], columns=['Status'], values=['Price'], fill_value=0)"
   ]
  },
  {
   "cell_type": "code",
   "execution_count": null,
   "metadata": {},
   "outputs": [],
   "source": [
    "pd.pivot_table(df, index=['Name', 'Product'], columns=['Status'], values=['Price'], fill_value=0, margins=True)"
   ]
  },
  {
   "cell_type": "code",
   "execution_count": null,
   "metadata": {},
   "outputs": [],
   "source": [
    "pd.pivot_table(df,\n",
    "               index=['Manager', 'Status'], \n",
    "               columns=['Product'],\n",
    "               values=['Quantity', 'Price'],\n",
    "               aggfunc={'Quantity': len, 'Price': [np.sum, np.mean]},\n",
    "               fill_value=0)"
   ]
  },
  {
   "cell_type": "markdown",
   "metadata": {},
   "source": [
    "### Challenges"
   ]
  },
  {
   "cell_type": "markdown",
   "metadata": {},
   "source": [
    "ลองทำตาราง Pivot โดยมี index คือ Product มี columns คือ Status และมี values เป็น Quantity"
   ]
  },
  {
   "cell_type": "code",
   "execution_count": null,
   "metadata": {},
   "outputs": [],
   "source": [
    "pd.pivot_table(df, index=['Product'], columns=['Status'], values=['Quantity'], fill_value=0)"
   ]
  },
  {
   "cell_type": "markdown",
   "metadata": {},
   "source": [
    "---"
   ]
  },
  {
   "cell_type": "markdown",
   "metadata": {},
   "source": [
    "## Analyzing Public Datasets"
   ]
  },
  {
   "cell_type": "markdown",
   "metadata": {},
   "source": [
    "### Dataset 1: Adult"
   ]
  },
  {
   "cell_type": "markdown",
   "metadata": {},
   "source": [
    "จากข้อมูล [Adult](https://archive.ics.uci.edu/ml/datasets/adult) ลองตอบคำถามต่อไปนี้"
   ]
  },
  {
   "cell_type": "code",
   "execution_count": null,
   "metadata": {},
   "outputs": [],
   "source": [
    "adult_data_url = 'https://archive.ics.uci.edu/ml/machine-learning-databases/adult/adult.data'\n",
    "columns = ['age', 'Work Class', 'fnlwgt', 'education', 'education-num', 'marital-status', 'occupation', 'relationship', 'race', 'sex', 'capital-gain', 'capital-loss', 'hours-per-week', 'native-country', 'Money Per Year']\n",
    "adult = pd.read_csv(adult_data_url, names=columns)"
   ]
  },
  {
   "cell_type": "markdown",
   "metadata": {},
   "source": [
    "ในข้อมูลชุดนี้กลุ่มอายุที่มีจำนวนน้อยที่สุดคือกลุ่มอายุเท่าไหร่?"
   ]
  },
  {
   "cell_type": "code",
   "execution_count": null,
   "metadata": {},
   "outputs": [],
   "source": [
    "adult.age.value_counts(ascending=True)[0:5]"
   ]
  },
  {
   "cell_type": "markdown",
   "metadata": {},
   "source": [
    "กลุ่มอายุที่มีจำนวนคนมากที่สุดคือกลุ่มอายุเท่าไหร่ และมีกี่คน?"
   ]
  },
  {
   "cell_type": "code",
   "execution_count": null,
   "metadata": {},
   "outputs": [],
   "source": [
    "adult.age.value_counts()"
   ]
  },
  {
   "cell_type": "markdown",
   "metadata": {},
   "source": [
    "จากกลุ่มอายุที่ได้มาข้างต้น มีเพศชายกี่คน และเพศหญิงกี่คน?"
   ]
  },
  {
   "cell_type": "code",
   "execution_count": null,
   "metadata": {},
   "outputs": [],
   "source": [
    "adult[adult.age == adult.age.value_counts().index[0]]['sex'].value_counts()"
   ]
  },
  {
   "cell_type": "markdown",
   "metadata": {},
   "source": [
    "### Dataset 2: Amazon Review"
   ]
  },
  {
   "cell_type": "markdown",
   "metadata": {},
   "source": [
    "เลือกข้อมูล Amazon review ที่เป็น 5-core จาก http://jmcauley.ucsd.edu/data/amazon/ ของ Julian McAuley\n",
    "\n",
    "```\n",
    "reviewerID - ID of the reviewer, e.g. A2SUAM1J3GNN3B\n",
    "asin - ID of the product, e.g. 0000013714\n",
    "reviewerName - name of the reviewer\n",
    "helpful - helpfulness rating of the review, e.g. 2/3\n",
    "reviewText - text of the review\n",
    "overall - rating of the product\n",
    "summary - summary of the review\n",
    "unixReviewTime - time of the review (unix time)\n",
    "reviewTime - time of the review (raw)\n",
    "```\n",
    "\n",
    "**หมายเหตุ:** ข้อมูลนี้ใช้ทางด้านการวิจัยเท่านั้น :)"
   ]
  },
  {
   "cell_type": "markdown",
   "metadata": {},
   "source": [
    "โหลดข้อมูลมาเข้า DataFrame"
   ]
  },
  {
   "cell_type": "code",
   "execution_count": null,
   "metadata": {},
   "outputs": [],
   "source": [
    "import pandas as pd\n",
    "\n",
    "import gzip\n",
    "music_review_lines = gzip.open('data/reviews_Digital_Music_5.json.gz', 'rt').readlines()\n",
    "\n",
    "import json\n",
    "df = pd.DataFrame(list(map(json.loads, music_review_lines)))"
   ]
  },
  {
   "cell_type": "code",
   "execution_count": null,
   "metadata": {},
   "outputs": [],
   "source": [
    "df.head()"
   ]
  },
  {
   "cell_type": "markdown",
   "metadata": {},
   "source": [
    "เก็บข้อมูล quarter ของแต่ละ review ในคอลัมภ์ใหม่ชื่อ quarter"
   ]
  },
  {
   "cell_type": "code",
   "execution_count": null,
   "metadata": {},
   "outputs": [],
   "source": [
    "df['unixReviewTime'] = pd.to_datetime(df['unixReviewTime'], unit='s')\n",
    "df['quarter'] = df.unixReviewTime.dt.quarter\n",
    "df.head()"
   ]
  },
  {
   "cell_type": "markdown",
   "metadata": {},
   "source": [
    "เลือกข้อมูลที่มี overall rating 5 เฉพาะวันจันทร์ และมีคำว่า love ใน review"
   ]
  },
  {
   "cell_type": "code",
   "execution_count": null,
   "metadata": {},
   "outputs": [],
   "source": [
    "df[(df.overall == 5) & (df.unixReviewTime.dt.dayofweek == 0) & (df.summary.str.contains('love'))]"
   ]
  },
  {
   "cell_type": "markdown",
   "metadata": {},
   "source": [
    "หาสินค้าที่มีคนรีวีวในวันที่มีคนรีวีวมากที่สุด"
   ]
  },
  {
   "cell_type": "code",
   "execution_count": null,
   "metadata": {},
   "outputs": [],
   "source": [
    "days = df.unixReviewTime.value_counts()\n",
    "df[df.unixReviewTime == days.index[0]]"
   ]
  },
  {
   "cell_type": "markdown",
   "metadata": {},
   "source": [
    "หารีวีวของสินค้า 3 อันดับแรกที่มีคนรีวีวมากที่สุด"
   ]
  },
  {
   "cell_type": "code",
   "execution_count": null,
   "metadata": {},
   "outputs": [],
   "source": [
    "products = df.asin.value_counts()[0:3].index\n",
    "df[df.asin.isin(products)]"
   ]
  },
  {
   "cell_type": "markdown",
   "metadata": {},
   "source": [
    "หาค่า rating เฉลี่ยของแต่ละสินค้า"
   ]
  },
  {
   "cell_type": "code",
   "execution_count": null,
   "metadata": {},
   "outputs": [],
   "source": [
    "df.groupby('asin').overall.mean().sort_values(ascending=False)"
   ]
  },
  {
   "cell_type": "markdown",
   "metadata": {},
   "source": [
    "หาค่า rating ของผู้ใช้แต่ละคน"
   ]
  },
  {
   "cell_type": "code",
   "execution_count": null,
   "metadata": {},
   "outputs": [],
   "source": [
    "df.groupby('reviewerID').overall.mean().sort_values(ascending=False)"
   ]
  },
  {
   "cell_type": "markdown",
   "metadata": {},
   "source": [
    "หาค่า rating เฉลี่ยของแต่ละวันใน 1 อาทิตย์"
   ]
  },
  {
   "cell_type": "code",
   "execution_count": null,
   "metadata": {},
   "outputs": [],
   "source": [
    "df.groupby(df.unixReviewTime.dt.dayofweek).overall.mean()"
   ]
  },
  {
   "cell_type": "markdown",
   "metadata": {},
   "source": [
    "หาค่า standard deviation ของ rating ของแต่ละสินค้า"
   ]
  },
  {
   "cell_type": "code",
   "execution_count": null,
   "metadata": {},
   "outputs": [],
   "source": [
    "df.groupby('asin').overall.std().sort_values(ascending=False)"
   ]
  },
  {
   "cell_type": "markdown",
   "metadata": {},
   "source": [
    "### Dataset 3: Stanford Open Policing"
   ]
  },
  {
   "cell_type": "markdown",
   "metadata": {},
   "source": [
    "Download \"Connecticut\" from https://openpolicing.stanford.edu/data/"
   ]
  },
  {
   "cell_type": "code",
   "execution_count": null,
   "metadata": {},
   "outputs": [],
   "source": [
    "df = pd.read_csv('data/CT-clean.csv')"
   ]
  },
  {
   "cell_type": "code",
   "execution_count": null,
   "metadata": {},
   "outputs": [],
   "source": [
    "df.head()"
   ]
  },
  {
   "cell_type": "markdown",
   "metadata": {},
   "source": [
    "ผู้หญิงหรือผู้ชาย ใครขับเร็วกว่ากัน?"
   ]
  },
  {
   "cell_type": "code",
   "execution_count": null,
   "metadata": {},
   "outputs": [],
   "source": [
    "df[df.violation == 'Speeding'].driver_gender.value_counts()"
   ]
  },
  {
   "cell_type": "markdown",
   "metadata": {},
   "source": [
    "ผู้ชายทำผิดอะไรบ้าง แล้วอะไรเยอะที่สุด?"
   ]
  },
  {
   "cell_type": "code",
   "execution_count": null,
   "metadata": {},
   "outputs": [],
   "source": [
    "df[df.driver_gender == 'M'].violation.value_counts()[0:5]"
   ]
  },
  {
   "cell_type": "markdown",
   "metadata": {},
   "source": [
    "ผู้หญิงทำผิดอะไรบ้าง แล้วอะไรเยอะที่สุด?"
   ]
  },
  {
   "cell_type": "code",
   "execution_count": null,
   "metadata": {},
   "outputs": [],
   "source": [
    "df[df.driver_gender == 'F'].violation.value_counts()[0:5]"
   ]
  },
  {
   "cell_type": "markdown",
   "metadata": {},
   "source": [
    "เพศไหนโดนเรียกให้หยุดค้นเยอะที่สุด?"
   ]
  },
  {
   "cell_type": "code",
   "execution_count": null,
   "metadata": {},
   "outputs": [],
   "source": [
    "df.groupby('driver_gender').search_conducted.mean()"
   ]
  },
  {
   "cell_type": "markdown",
   "metadata": {},
   "source": [
    "ทำไม `search_type` มี missing data เยอะสุด?"
   ]
  },
  {
   "cell_type": "code",
   "execution_count": null,
   "metadata": {},
   "outputs": [],
   "source": [
    "df.search_conducted.value_counts()"
   ]
  },
  {
   "cell_type": "markdown",
   "metadata": {},
   "source": [
    "`search_type` จะหายไปแน่ๆ ถ้า `search_conducted` เป็น False"
   ]
  },
  {
   "cell_type": "code",
   "execution_count": null,
   "metadata": {},
   "outputs": [],
   "source": [
    "df[df.search_conducted == False].search_type.value_counts()"
   ]
  },
  {
   "cell_type": "markdown",
   "metadata": {},
   "source": [
    "ปีไหนมีจำนวน stop น้อยที่สุด?"
   ]
  },
  {
   "cell_type": "code",
   "execution_count": null,
   "metadata": {},
   "outputs": [],
   "source": [
    "combined = df.stop_date.str.cat(df.stop_time, sep=' ')"
   ]
  },
  {
   "cell_type": "code",
   "execution_count": null,
   "metadata": {},
   "outputs": [],
   "source": [
    "df.stop_date = pd.to_datetime(combined)"
   ]
  },
  {
   "cell_type": "code",
   "execution_count": null,
   "metadata": {},
   "outputs": [],
   "source": [
    "df.head()"
   ]
  },
  {
   "cell_type": "code",
   "execution_count": null,
   "metadata": {},
   "outputs": [],
   "source": [
    "df.stop_date.dtype"
   ]
  },
  {
   "cell_type": "code",
   "execution_count": null,
   "metadata": {},
   "outputs": [],
   "source": [
    "df.stop_date.dt.year.value_counts(ascending=True)"
   ]
  },
  {
   "cell_type": "markdown",
   "metadata": {},
   "source": [
    "แต่ละช่วงของวันมีคนโดนเรียกให้หยุดค้นเป็นจำนวนเท่าไหร่บ้าง?"
   ]
  },
  {
   "cell_type": "code",
   "execution_count": null,
   "metadata": {},
   "outputs": [],
   "source": [
    "df.groupby(df.stop_date.dt.hour).search_conducted.mean()"
   ]
  }
 ],
 "metadata": {
  "anaconda-cloud": {},
  "kernelspec": {
   "display_name": "Python 3",
   "language": "python",
   "name": "python3"
  },
  "language_info": {
   "codemirror_mode": {
    "name": "ipython",
    "version": 3
   },
   "file_extension": ".py",
   "mimetype": "text/x-python",
   "name": "python",
   "nbconvert_exporter": "python",
   "pygments_lexer": "ipython3",
   "version": "3.7.1"
  }
 },
 "nbformat": 4,
 "nbformat_minor": 1
}

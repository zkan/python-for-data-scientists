{
 "cells": [
  {
   "cell_type": "markdown",
   "metadata": {},
   "source": [
    "# Hello, Keras"
   ]
  },
  {
   "cell_type": "code",
   "execution_count": 1,
   "metadata": {},
   "outputs": [
    {
     "name": "stdout",
     "output_type": "stream",
     "text": [
      "Requirement already satisfied: Keras==2.1.1 in /Users/zkan/anaconda3/lib/python3.6/site-packages\n",
      "Requirement already satisfied: tensorflow==1.2.1 in /Users/zkan/anaconda3/lib/python3.6/site-packages\n",
      "Requirement already satisfied: pyyaml in /Users/zkan/anaconda3/lib/python3.6/site-packages (from Keras==2.1.1)\n",
      "Requirement already satisfied: numpy>=1.9.1 in /Users/zkan/anaconda3/lib/python3.6/site-packages (from Keras==2.1.1)\n",
      "Requirement already satisfied: scipy>=0.14 in /Users/zkan/anaconda3/lib/python3.6/site-packages (from Keras==2.1.1)\n",
      "Requirement already satisfied: six>=1.9.0 in /Users/zkan/anaconda3/lib/python3.6/site-packages (from Keras==2.1.1)\n",
      "Requirement already satisfied: backports.weakref==1.0rc1 in /Users/zkan/anaconda3/lib/python3.6/site-packages (from tensorflow==1.2.1)\n",
      "Requirement already satisfied: werkzeug>=0.11.10 in /Users/zkan/anaconda3/lib/python3.6/site-packages (from tensorflow==1.2.1)\n",
      "Requirement already satisfied: wheel>=0.26 in /Users/zkan/anaconda3/lib/python3.6/site-packages (from tensorflow==1.2.1)\n",
      "Requirement already satisfied: html5lib==0.9999999 in /Users/zkan/anaconda3/lib/python3.6/site-packages (from tensorflow==1.2.1)\n",
      "Requirement already satisfied: bleach==1.5.0 in /Users/zkan/anaconda3/lib/python3.6/site-packages (from tensorflow==1.2.1)\n",
      "Requirement already satisfied: markdown>=2.6.8 in /Users/zkan/anaconda3/lib/python3.6/site-packages (from tensorflow==1.2.1)\n",
      "Requirement already satisfied: protobuf>=3.2.0 in /Users/zkan/anaconda3/lib/python3.6/site-packages (from tensorflow==1.2.1)\n",
      "Requirement already satisfied: setuptools in /Users/zkan/anaconda3/lib/python3.6/site-packages (from protobuf>=3.2.0->tensorflow==1.2.1)\n"
     ]
    }
   ],
   "source": [
    "!pip install Keras==2.1.1 tensorflow==1.2.1"
   ]
  },
  {
   "cell_type": "code",
   "execution_count": 3,
   "metadata": {},
   "outputs": [],
   "source": [
    "%matplotlib inline\n",
    "\n",
    "from matplotlib import pyplot as plt\n",
    "import numpy as np\n",
    "\n",
    "import keras\n",
    "from keras.datasets import mnist\n",
    "from keras.models import Sequential\n",
    "from keras.layers import (\n",
    "    Conv2D,\n",
    "    Dense,\n",
    "    Dropout,\n",
    "    Flatten,\n",
    "    MaxPooling2D\n",
    ")"
   ]
  },
  {
   "cell_type": "markdown",
   "metadata": {},
   "source": [
    "## CNN with MNIST Data"
   ]
  },
  {
   "cell_type": "code",
   "execution_count": 4,
   "metadata": {},
   "outputs": [],
   "source": [
    "(x_train_original, y_train_original), (x_test_original, y_test_original) = mnist.load_data()"
   ]
  },
  {
   "cell_type": "code",
   "execution_count": 5,
   "metadata": {},
   "outputs": [
    {
     "name": "stdout",
     "output_type": "stream",
     "text": [
      "x_train shape: (60000, 28, 28)\n",
      "y_train shape: (60000,)\n",
      "x_test shape: (10000, 28, 28)\n",
      "y_test shape: (10000,)\n"
     ]
    }
   ],
   "source": [
    "print('x_train shape:', x_train_original.shape)\n",
    "print('y_train shape:', y_train_original.shape)\n",
    "print('x_test shape:', x_test_original.shape)\n",
    "print('y_test shape:', y_test_original.shape)"
   ]
  },
  {
   "cell_type": "code",
   "execution_count": 6,
   "metadata": {},
   "outputs": [
    {
     "data": {
      "image/png": "[encoded data removed]",
      "text/plain": [
       "<matplotlib.figure.Figure at 0x1146a7320>"
      ]
     },
     "metadata": {},
     "output_type": "display_data"
    }
   ],
   "source": [
    "_, axes = plt.subplots(ncols=5)\n",
    "axes[0].imshow(x_test_original[0])\n",
    "axes[1].imshow(x_test_original[69])\n",
    "axes[2].imshow(x_test_original[33])\n",
    "axes[3].imshow(x_test_original[5])\n",
    "axes[4].imshow(x_test_original[996]);"
   ]
  },
  {
   "cell_type": "markdown",
   "metadata": {},
   "source": [
    "Note that Theano uses `channels_first` and TensorFlow uses `channels_last`. Here we will use TensorFlow as the backend. See [Keras backends](https://keras.io/backend/) for more detail. We adjust the input shape accordingly."
   ]
  },
  {
   "cell_type": "code",
   "execution_count": 7,
   "metadata": {},
   "outputs": [],
   "source": [
    "img_rows, img_cols = 28, 28\n",
    "x_train = x_train_original.reshape(x_train_original.shape[0], img_rows, img_cols, 1)\n",
    "x_test = x_test_original.reshape(x_test_original.shape[0], img_rows, img_cols, 1)\n",
    "input_shape = (img_rows, img_cols, 1)"
   ]
  },
  {
   "cell_type": "markdown",
   "metadata": {},
   "source": [
    "Normalize data to the range [0, 1]."
   ]
  },
  {
   "cell_type": "code",
   "execution_count": 8,
   "metadata": {},
   "outputs": [],
   "source": [
    "x_train = x_train.astype('float32')\n",
    "x_test = x_test.astype('float32')\n",
    "x_train /= 255\n",
    "x_test /= 255"
   ]
  },
  {
   "cell_type": "markdown",
   "metadata": {},
   "source": [
    "Convert class vectors to binary class matrices."
   ]
  },
  {
   "cell_type": "code",
   "execution_count": 9,
   "metadata": {},
   "outputs": [],
   "source": [
    "num_classes = 10\n",
    "y_train = keras.utils.to_categorical(y_train_original, num_classes)\n",
    "y_test = keras.utils.to_categorical(y_test_original, num_classes)"
   ]
  },
  {
   "cell_type": "markdown",
   "metadata": {},
   "source": [
    "Define the model architecture."
   ]
  },
  {
   "cell_type": "code",
   "execution_count": 10,
   "metadata": {},
   "outputs": [],
   "source": [
    "model = Sequential()\n",
    "model.add(Conv2D(32, kernel_size=(3, 3), activation='relu', input_shape=input_shape))"
   ]
  },
  {
   "cell_type": "code",
   "execution_count": 11,
   "metadata": {},
   "outputs": [],
   "source": [
    "#model = Sequential()\n",
    "#model.add(Dense(784, activation='relu', input_shape=input_shape))"
   ]
  },
  {
   "cell_type": "code",
   "execution_count": 12,
   "metadata": {},
   "outputs": [],
   "source": [
    "model.add(Conv2D(64, (3, 3), activation='relu'))\n",
    "model.add(MaxPooling2D(pool_size=(2, 2)))\n",
    "model.add(Dropout(0.25))\n",
    "model.add(Flatten())\n",
    "model.add(Dense(128, activation='relu'))\n",
    "model.add(Dropout(0.5))"
   ]
  },
  {
   "cell_type": "code",
   "execution_count": 13,
   "metadata": {},
   "outputs": [],
   "source": [
    "model.add(Dense(num_classes, activation='softmax'))"
   ]
  },
  {
   "cell_type": "code",
   "execution_count": 14,
   "metadata": {},
   "outputs": [],
   "source": [
    "model.compile(\n",
    "    loss=keras.losses.categorical_crossentropy,\n",
    "    optimizer=keras.optimizers.Adadelta(), \n",
    "    metrics=['accuracy']\n",
    ")"
   ]
  },
  {
   "cell_type": "code",
   "execution_count": null,
   "metadata": {},
   "outputs": [
    {
     "name": "stdout",
     "output_type": "stream",
     "text": [
      "Train on 60000 samples, validate on 10000 samples\n",
      "Epoch 1/5\n",
      "60000/60000 [==============================] - 146s 2ms/step - loss: 0.3311 - acc: 0.8991 - val_loss: 0.0767 - val_acc: 0.9770\n",
      "Epoch 2/5\n",
      "49280/60000 [=======================>......] - ETA: 23s - loss: 0.1158 - acc: 0.9657"
     ]
    }
   ],
   "source": [
    "model.fit(\n",
    "    x_train, \n",
    "    y_train,\n",
    "    batch_size=128,\n",
    "    epochs=5,\n",
    "    verbose=1,      \n",
    "    validation_data=(x_test, y_test)\n",
    ")"
   ]
  },
  {
   "cell_type": "code",
   "execution_count": null,
   "metadata": {},
   "outputs": [],
   "source": [
    "loss, accuracy = model.evaluate(x_test, y_test)\n",
    "print('Test loss:', loss)\n",
    "print('Test accuracy:', accuracy)"
   ]
  },
  {
   "cell_type": "markdown",
   "metadata": {},
   "source": [
    "Predict one test data."
   ]
  },
  {
   "cell_type": "code",
   "execution_count": null,
   "metadata": {},
   "outputs": [],
   "source": [
    "_, axes = plt.subplots(ncols=5)\n",
    "axes[0].imshow(x_test_original[0])\n",
    "axes[1].imshow(x_test_original[69])\n",
    "axes[2].imshow(x_test_original[33])\n",
    "axes[3].imshow(x_test_original[5])\n",
    "axes[4].imshow(x_test_original[996]);"
   ]
  },
  {
   "cell_type": "code",
   "execution_count": null,
   "metadata": {},
   "outputs": [],
   "source": [
    "print(\n",
    "    model.predict_classes(np.array([x_test[0]])), \n",
    "    model.predict_classes(np.array([x_test[69]])),\n",
    "    model.predict_classes(np.array([x_test[33]])),\n",
    "    model.predict_classes(np.array([x_test[5]])),\n",
    "    model.predict_classes(np.array([x_test[996]]))\n",
    ")"
   ]
  },
  {
   "cell_type": "markdown",
   "metadata": {},
   "source": [
    "# MLP with Random Data"
   ]
  },
  {
   "cell_type": "code",
   "execution_count": null,
   "metadata": {},
   "outputs": [],
   "source": [
    "x_train = np.random.random((1000, 20))\n",
    "y_train = keras.utils.to_categorical(np.random.randint(10, size=(1000, 1)), num_classes=10)\n",
    "x_test = np.random.random((100, 20))\n",
    "y_test = keras.utils.to_categorical(np.random.randint(10, size=(100, 1)), num_classes=10)"
   ]
  },
  {
   "cell_type": "code",
   "execution_count": null,
   "metadata": {},
   "outputs": [],
   "source": [
    "print('x_train shape:', x_train.shape)\n",
    "print('y_train shape:', y_train.shape)\n",
    "print('x_test shape:', x_test.shape)\n",
    "print('y_test shape:', y_test.shape)"
   ]
  },
  {
   "cell_type": "markdown",
   "metadata": {},
   "source": [
    "Define the model architecture."
   ]
  },
  {
   "cell_type": "code",
   "execution_count": null,
   "metadata": {},
   "outputs": [],
   "source": [
    "model = Sequential()\n",
    "model.add(Dense(64, activation='relu', input_dim=20))"
   ]
  },
  {
   "cell_type": "code",
   "execution_count": null,
   "metadata": {},
   "outputs": [],
   "source": [
    "model.add(Dropout(0.5))\n",
    "model.add(Dense(64, activation='relu'))\n",
    "model.add(Dropout(0.5))"
   ]
  },
  {
   "cell_type": "code",
   "execution_count": null,
   "metadata": {},
   "outputs": [],
   "source": [
    "model.add(Dense(10, activation='softmax'))"
   ]
  },
  {
   "cell_type": "code",
   "execution_count": null,
   "metadata": {},
   "outputs": [],
   "source": [
    "sgd = keras.optimizers.SGD(lr=0.01, decay=1e-6, momentum=0.9, nesterov=True)\n",
    "model.compile(loss='categorical_crossentropy', optimizer=sgd, metrics=['accuracy'])"
   ]
  },
  {
   "cell_type": "code",
   "execution_count": null,
   "metadata": {},
   "outputs": [],
   "source": [
    "model.fit(x_train, y_train, epochs=5, batch_size=128)\n",
    "score = model.evaluate(x_test, y_test, batch_size=128)"
   ]
  },
  {
   "cell_type": "code",
   "execution_count": null,
   "metadata": {},
   "outputs": [],
   "source": [
    "loss, accuracy = model.evaluate(x_test, y_test)\n",
    "print('Test loss:', loss)\n",
    "print('Test accuracy:', accuracy)"
   ]
  },
  {
   "cell_type": "code",
   "execution_count": null,
   "metadata": {},
   "outputs": [],
   "source": [
    "result = model.predict_classes(np.array([x_test[0]]))\n",
    "print(result)"
   ]
  }
 ],
 "metadata": {
  "kernelspec": {
   "display_name": "Python 3",
   "language": "python",
   "name": "python3"
  },
  "language_info": {
   "codemirror_mode": {
    "name": "ipython",
    "version": 3
   },
   "file_extension": ".py",
   "mimetype": "text/x-python",
   "name": "python",
   "nbconvert_exporter": "python",
   "pygments_lexer": "ipython3",
   "version": "3.6.4"
  }
 },
 "nbformat": 4,
 "nbformat_minor": 2
}

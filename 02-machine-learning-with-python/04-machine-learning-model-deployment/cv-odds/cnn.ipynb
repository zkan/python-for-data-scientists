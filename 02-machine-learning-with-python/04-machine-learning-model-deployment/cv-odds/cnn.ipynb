{
 "cells": [
  {
   "cell_type": "code",
   "execution_count": 1,
   "metadata": {},
   "outputs": [
    {
     "name": "stdout",
     "output_type": "stream",
     "text": [
      "Requirement already satisfied: keras in /Users/zkan/anaconda3/lib/python3.6/site-packages (2.2.2)\n",
      "Requirement already satisfied: tensorflow in /Users/zkan/anaconda3/lib/python3.6/site-packages (1.10.1)\n",
      "Requirement already satisfied: h5py in /Users/zkan/anaconda3/lib/python3.6/site-packages (from keras) (2.7.1)\n",
      "Requirement already satisfied: keras-preprocessing==1.0.2 in /Users/zkan/anaconda3/lib/python3.6/site-packages (from keras) (1.0.2)\n",
      "Requirement already satisfied: six>=1.9.0 in /Users/zkan/anaconda3/lib/python3.6/site-packages (from keras) (1.11.0)\n",
      "Requirement already satisfied: numpy>=1.9.1 in /Users/zkan/anaconda3/lib/python3.6/site-packages (from keras) (1.14.3)\n",
      "Requirement already satisfied: pyyaml in /Users/zkan/anaconda3/lib/python3.6/site-packages (from keras) (3.12)\n",
      "Requirement already satisfied: keras-applications==1.0.4 in /Users/zkan/anaconda3/lib/python3.6/site-packages (from keras) (1.0.4)\n",
      "Requirement already satisfied: scipy>=0.14 in /Users/zkan/anaconda3/lib/python3.6/site-packages (from keras) (1.1.0)\n",
      "Requirement already satisfied: tensorboard<1.11.0,>=1.10.0 in /Users/zkan/anaconda3/lib/python3.6/site-packages (from tensorflow) (1.10.0)\n",
      "Requirement already satisfied: grpcio>=1.8.6 in /Users/zkan/anaconda3/lib/python3.6/site-packages (from tensorflow) (1.15.0)\n",
      "Requirement already satisfied: astor>=0.6.0 in /Users/zkan/anaconda3/lib/python3.6/site-packages (from tensorflow) (0.7.1)\n",
      "Requirement already satisfied: absl-py>=0.1.6 in /Users/zkan/anaconda3/lib/python3.6/site-packages (from tensorflow) (0.4.1)\n",
      "Requirement already satisfied: protobuf>=3.6.0 in /Users/zkan/anaconda3/lib/python3.6/site-packages (from tensorflow) (3.6.1)\n",
      "Requirement already satisfied: setuptools<=39.1.0 in /Users/zkan/anaconda3/lib/python3.6/site-packages (from tensorflow) (39.1.0)\n",
      "Requirement already satisfied: termcolor>=1.1.0 in /Users/zkan/anaconda3/lib/python3.6/site-packages (from tensorflow) (1.1.0)\n",
      "Requirement already satisfied: wheel>=0.26 in /Users/zkan/anaconda3/lib/python3.6/site-packages (from tensorflow) (0.31.1)\n",
      "Requirement already satisfied: gast>=0.2.0 in /Users/zkan/anaconda3/lib/python3.6/site-packages (from tensorflow) (0.2.0)\n",
      "Requirement already satisfied: markdown>=2.6.8 in /Users/zkan/anaconda3/lib/python3.6/site-packages (from tensorboard<1.11.0,>=1.10.0->tensorflow) (2.6.11)\n",
      "Requirement already satisfied: werkzeug>=0.11.10 in /Users/zkan/anaconda3/lib/python3.6/site-packages (from tensorboard<1.11.0,>=1.10.0->tensorflow) (0.14.1)\n",
      "\u001b[31mdistributed 1.21.8 requires msgpack, which is not installed.\u001b[0m\n",
      "\u001b[33mYou are using pip version 10.0.1, however version 18.0 is available.\n",
      "You should consider upgrading via the 'pip install --upgrade pip' command.\u001b[0m\n"
     ]
    }
   ],
   "source": [
    "!pip install keras tensorflow"
   ]
  },
  {
   "cell_type": "code",
   "execution_count": 2,
   "metadata": {},
   "outputs": [
    {
     "name": "stderr",
     "output_type": "stream",
     "text": [
      "/Users/zkan/anaconda3/lib/python3.6/site-packages/h5py/__init__.py:36: FutureWarning: Conversion of the second argument of issubdtype from `float` to `np.floating` is deprecated. In future, it will be treated as `np.float64 == np.dtype(float).type`.\n",
      "  from ._conv import register_converters as _register_converters\n",
      "Using TensorFlow backend.\n",
      "/Users/zkan/anaconda3/lib/python3.6/importlib/_bootstrap.py:219: RuntimeWarning: compiletime version 3.5 of module 'tensorflow.python.framework.fast_tensor_util' does not match runtime version 3.6\n",
      "  return f(*args, **kwds)\n"
     ]
    }
   ],
   "source": [
    "from keras import backend"
   ]
  },
  {
   "cell_type": "code",
   "execution_count": 8,
   "metadata": {},
   "outputs": [],
   "source": [
    "from imutils import paths"
   ]
  },
  {
   "cell_type": "code",
   "execution_count": 9,
   "metadata": {},
   "outputs": [],
   "source": [
    "image_paths = list(paths.list_images('datasets/animals/'))"
   ]
  },
  {
   "cell_type": "code",
   "execution_count": 14,
   "metadata": {},
   "outputs": [],
   "source": [
    "%matplotlib inline\n",
    "import cv2\n",
    "import matplotlib.pyplot as plt\n",
    "import random\n",
    "import numpy as np"
   ]
  },
  {
   "cell_type": "code",
   "execution_count": 15,
   "metadata": {},
   "outputs": [],
   "source": [
    "random.shuffle(image_paths)"
   ]
  },
  {
   "cell_type": "code",
   "execution_count": 16,
   "metadata": {},
   "outputs": [],
   "source": [
    "data = []\n",
    "labels = []\n",
    "\n",
    "for image_path in image_paths:\n",
    "    image = cv2.imread(image_path)\n",
    "    image = cv2.resize(image, (32, 32))\n",
    "    label = image_path.split('/')[-2]\n",
    "    data.append(image)\n",
    "    labels.append(label)"
   ]
  },
  {
   "cell_type": "code",
   "execution_count": 17,
   "metadata": {},
   "outputs": [],
   "source": [
    "data = np.array(data) / 255.0\n",
    "labels = np.array(labels)"
   ]
  },
  {
   "cell_type": "code",
   "execution_count": 18,
   "metadata": {},
   "outputs": [],
   "source": [
    "from sklearn.preprocessing import LabelBinarizer\n",
    "\n",
    "lb = LabelBinarizer()\n",
    "labels = lb.fit_transform(labels)"
   ]
  },
  {
   "cell_type": "code",
   "execution_count": 19,
   "metadata": {},
   "outputs": [
    {
     "data": {
      "text/plain": [
       "(3000, 32, 32, 3)"
      ]
     },
     "execution_count": 19,
     "metadata": {},
     "output_type": "execute_result"
    }
   ],
   "source": [
    "data.shape"
   ]
  },
  {
   "cell_type": "code",
   "execution_count": 20,
   "metadata": {},
   "outputs": [],
   "source": [
    "from keras.models import Sequential\n",
    "from keras.layers.convolutional import Conv2D\n",
    "from keras.layers.core import Dense, Flatten"
   ]
  },
  {
   "cell_type": "code",
   "execution_count": 21,
   "metadata": {},
   "outputs": [],
   "source": [
    "from sklearn.model_selection import train_test_split"
   ]
  },
  {
   "cell_type": "code",
   "execution_count": 22,
   "metadata": {},
   "outputs": [],
   "source": [
    "X_train, X_test, y_train, y_test = train_test_split(\n",
    "    data, labels, test_size=0.2, random_state=33\n",
    ")"
   ]
  },
  {
   "cell_type": "code",
   "execution_count": 23,
   "metadata": {},
   "outputs": [],
   "source": [
    "model = Sequential()\n",
    "model.add(\n",
    "    Conv2D(\n",
    "        32, \n",
    "        (3, 3), \n",
    "        input_shape=(32, 32, 3), \n",
    "        activation='relu',\n",
    "        padding='same'\n",
    "    )\n",
    ")\n",
    "model.add(Flatten())\n",
    "model.add(Dense(3, activation='softmax'))"
   ]
  },
  {
   "cell_type": "code",
   "execution_count": 24,
   "metadata": {},
   "outputs": [
    {
     "name": "stdout",
     "output_type": "stream",
     "text": [
      "_________________________________________________________________\n",
      "Layer (type)                 Output Shape              Param #   \n",
      "=================================================================\n",
      "conv2d_1 (Conv2D)            (None, 32, 32, 32)        896       \n",
      "_________________________________________________________________\n",
      "flatten_1 (Flatten)          (None, 32768)             0         \n",
      "_________________________________________________________________\n",
      "dense_1 (Dense)              (None, 3)                 98307     \n",
      "=================================================================\n",
      "Total params: 99,203\n",
      "Trainable params: 99,203\n",
      "Non-trainable params: 0\n",
      "_________________________________________________________________\n"
     ]
    }
   ],
   "source": [
    "model.summary()"
   ]
  },
  {
   "cell_type": "code",
   "execution_count": 25,
   "metadata": {},
   "outputs": [],
   "source": [
    "model.compile(\n",
    "    loss='categorical_crossentropy',\n",
    "    optimizer='adam',\n",
    "    metrics=['accuracy']\n",
    ")"
   ]
  },
  {
   "cell_type": "code",
   "execution_count": 26,
   "metadata": {},
   "outputs": [
    {
     "name": "stdout",
     "output_type": "stream",
     "text": [
      "Train on 1920 samples, validate on 480 samples\n",
      "Epoch 1/10\n",
      "1920/1920 [==============================] - 1s 562us/step - loss: 0.8801 - acc: 0.5495 - val_loss: 0.6872 - val_acc: 0.6646\n",
      "Epoch 2/10\n",
      "1920/1920 [==============================] - 1s 369us/step - loss: 0.6538 - acc: 0.7000 - val_loss: 0.6485 - val_acc: 0.6771\n",
      "Epoch 3/10\n",
      "1920/1920 [==============================] - 1s 388us/step - loss: 0.5181 - acc: 0.7833 - val_loss: 0.6485 - val_acc: 0.6771\n",
      "Epoch 4/10\n",
      "1920/1920 [==============================] - 1s 383us/step - loss: 0.4338 - acc: 0.8292 - val_loss: 0.6267 - val_acc: 0.7188\n",
      "Epoch 5/10\n",
      "1920/1920 [==============================] - 1s 373us/step - loss: 0.3581 - acc: 0.8917 - val_loss: 0.6371 - val_acc: 0.7104\n",
      "Epoch 6/10\n",
      "1920/1920 [==============================] - 1s 401us/step - loss: 0.2875 - acc: 0.9167 - val_loss: 0.6819 - val_acc: 0.6958\n",
      "Epoch 7/10\n",
      "1920/1920 [==============================] - 1s 361us/step - loss: 0.2477 - acc: 0.9333 - val_loss: 0.6542 - val_acc: 0.7146\n",
      "Epoch 8/10\n",
      "1920/1920 [==============================] - 1s 392us/step - loss: 0.1997 - acc: 0.9557 - val_loss: 0.7439 - val_acc: 0.6958\n",
      "Epoch 9/10\n",
      "1920/1920 [==============================] - 1s 388us/step - loss: 0.1751 - acc: 0.9641 - val_loss: 0.7050 - val_acc: 0.7063\n",
      "Epoch 10/10\n",
      "1920/1920 [==============================] - 1s 371us/step - loss: 0.1453 - acc: 0.9786 - val_loss: 0.7167 - val_acc: 0.7063\n"
     ]
    },
    {
     "data": {
      "text/plain": [
       "<keras.callbacks.History at 0xb2170f7b8>"
      ]
     },
     "execution_count": 26,
     "metadata": {},
     "output_type": "execute_result"
    }
   ],
   "source": [
    "model.fit(X_train, y_train, epochs=10, validation_split=0.2)"
   ]
  },
  {
   "cell_type": "code",
   "execution_count": 27,
   "metadata": {},
   "outputs": [],
   "source": [
    "y_pred = model.predict(X_test)"
   ]
  },
  {
   "cell_type": "code",
   "execution_count": 29,
   "metadata": {},
   "outputs": [
    {
     "data": {
      "text/plain": [
       "array([[9.8355144e-01, 1.5985182e-02, 4.6332864e-04],\n",
       "       [2.3220515e-02, 1.8008670e-01, 7.9669279e-01],\n",
       "       [9.3757266e-01, 1.4672824e-02, 4.7754519e-02],\n",
       "       ...,\n",
       "       [8.0611086e-01, 1.9386464e-01, 2.4460480e-05],\n",
       "       [7.2196126e-02, 5.3195006e-01, 3.9585376e-01],\n",
       "       [8.7351072e-01, 1.2647997e-01, 9.3275994e-06]], dtype=float32)"
      ]
     },
     "execution_count": 29,
     "metadata": {},
     "output_type": "execute_result"
    }
   ],
   "source": [
    "y_pred"
   ]
  },
  {
   "cell_type": "code",
   "execution_count": 30,
   "metadata": {},
   "outputs": [
    {
     "data": {
      "text/plain": [
       "array([9.8355144e-01, 1.5985182e-02, 4.6332864e-04], dtype=float32)"
      ]
     },
     "execution_count": 30,
     "metadata": {},
     "output_type": "execute_result"
    }
   ],
   "source": [
    "y_pred[0]"
   ]
  },
  {
   "cell_type": "code",
   "execution_count": 28,
   "metadata": {},
   "outputs": [],
   "source": [
    "from sklearn.metrics import classification_report"
   ]
  },
  {
   "cell_type": "code",
   "execution_count": 36,
   "metadata": {},
   "outputs": [
    {
     "name": "stdout",
     "output_type": "stream",
     "text": [
      "             precision    recall  f1-score   support\n",
      "\n",
      "       cats       0.56      0.62      0.59       200\n",
      "       dogs       0.55      0.55      0.55       197\n",
      "      panda       0.84      0.75      0.79       203\n",
      "\n",
      "avg / total       0.65      0.64      0.64       600\n",
      "\n"
     ]
    }
   ],
   "source": [
    "print(classification_report(\n",
    "    y_test.argmax(axis=1), \n",
    "    y_pred.argmax(axis=1), \n",
    "    target_names=lb.classes_))"
   ]
  },
  {
   "cell_type": "code",
   "execution_count": 38,
   "metadata": {},
   "outputs": [],
   "source": [
    "from keras.layers.convolutional import MaxPooling2D\n",
    "from keras.layers.core import Dropout"
   ]
  },
  {
   "cell_type": "code",
   "execution_count": 41,
   "metadata": {},
   "outputs": [],
   "source": [
    "model = Sequential()\n",
    "model.add(Conv2D(32, (3, 3), input_shape=(32, 32, 3), activation='relu', padding='same'))\n",
    "model.add(Conv2D(128, (3, 3), activation='relu', padding='same'))\n",
    "model.add(Conv2D(128, (3, 3), activation='relu', padding='same'))\n",
    "model.add(MaxPooling2D(pool_size=(3, 3)))\n",
    "model.add(Dropout(0.2))\n",
    "model.add(Flatten())\n",
    "model.add(Dense(3, activation='softmax'))"
   ]
  },
  {
   "cell_type": "code",
   "execution_count": 42,
   "metadata": {},
   "outputs": [
    {
     "name": "stdout",
     "output_type": "stream",
     "text": [
      "_________________________________________________________________\n",
      "Layer (type)                 Output Shape              Param #   \n",
      "=================================================================\n",
      "conv2d_5 (Conv2D)            (None, 32, 32, 32)        896       \n",
      "_________________________________________________________________\n",
      "conv2d_6 (Conv2D)            (None, 32, 32, 128)       36992     \n",
      "_________________________________________________________________\n",
      "conv2d_7 (Conv2D)            (None, 32, 32, 128)       147584    \n",
      "_________________________________________________________________\n",
      "max_pooling2d_2 (MaxPooling2 (None, 10, 10, 128)       0         \n",
      "_________________________________________________________________\n",
      "dropout_2 (Dropout)          (None, 10, 10, 128)       0         \n",
      "_________________________________________________________________\n",
      "flatten_3 (Flatten)          (None, 12800)             0         \n",
      "_________________________________________________________________\n",
      "dense_3 (Dense)              (None, 3)                 38403     \n",
      "=================================================================\n",
      "Total params: 223,875\n",
      "Trainable params: 223,875\n",
      "Non-trainable params: 0\n",
      "_________________________________________________________________\n"
     ]
    }
   ],
   "source": [
    "model.summary()"
   ]
  },
  {
   "cell_type": "code",
   "execution_count": 44,
   "metadata": {},
   "outputs": [],
   "source": [
    "model.compile(\n",
    "    loss='categorical_crossentropy',\n",
    "    optimizer='adam',\n",
    "    metrics=['accuracy']\n",
    ")"
   ]
  },
  {
   "cell_type": "code",
   "execution_count": 45,
   "metadata": {},
   "outputs": [
    {
     "name": "stdout",
     "output_type": "stream",
     "text": [
      "Train on 1920 samples, validate on 480 samples\n",
      "Epoch 1/10\n",
      "1920/1920 [==============================] - 26s 13ms/step - loss: 0.8942 - acc: 0.5214 - val_loss: 0.7916 - val_acc: 0.6021\n",
      "Epoch 2/10\n",
      "1920/1920 [==============================] - 28s 15ms/step - loss: 0.7451 - acc: 0.6349 - val_loss: 0.7106 - val_acc: 0.6583\n",
      "Epoch 3/10\n",
      "1920/1920 [==============================] - 28s 14ms/step - loss: 0.6585 - acc: 0.6849 - val_loss: 0.6454 - val_acc: 0.6937\n",
      "Epoch 4/10\n",
      "1920/1920 [==============================] - 27s 14ms/step - loss: 0.6018 - acc: 0.7240 - val_loss: 0.6754 - val_acc: 0.6813\n",
      "Epoch 5/10\n",
      "1920/1920 [==============================] - 27s 14ms/step - loss: 0.5292 - acc: 0.7578 - val_loss: 0.6974 - val_acc: 0.6917\n",
      "Epoch 6/10\n",
      "1920/1920 [==============================] - 26s 14ms/step - loss: 0.4881 - acc: 0.7776 - val_loss: 0.6396 - val_acc: 0.6875\n",
      "Epoch 7/10\n",
      "1920/1920 [==============================] - 27s 14ms/step - loss: 0.4204 - acc: 0.8141 - val_loss: 0.6444 - val_acc: 0.7083\n",
      "Epoch 8/10\n",
      "1920/1920 [==============================] - 27s 14ms/step - loss: 0.3730 - acc: 0.8438 - val_loss: 0.6631 - val_acc: 0.7229\n",
      "Epoch 9/10\n",
      "1920/1920 [==============================] - 27s 14ms/step - loss: 0.2990 - acc: 0.8734 - val_loss: 0.7475 - val_acc: 0.6979\n",
      "Epoch 10/10\n",
      "1920/1920 [==============================] - 28s 14ms/step - loss: 0.2550 - acc: 0.8990 - val_loss: 0.8055 - val_acc: 0.7208\n"
     ]
    },
    {
     "data": {
      "text/plain": [
       "<keras.callbacks.History at 0xb230b6fd0>"
      ]
     },
     "execution_count": 45,
     "metadata": {},
     "output_type": "execute_result"
    }
   ],
   "source": [
    "model.fit(X_train, y_train, epochs=10, validation_split=0.2)"
   ]
  },
  {
   "cell_type": "code",
   "execution_count": 46,
   "metadata": {},
   "outputs": [],
   "source": [
    "y_pred = model.predict(X_test)"
   ]
  },
  {
   "cell_type": "code",
   "execution_count": 47,
   "metadata": {},
   "outputs": [
    {
     "name": "stdout",
     "output_type": "stream",
     "text": [
      "             precision    recall  f1-score   support\n",
      "\n",
      "       cats       0.68      0.66      0.67       200\n",
      "       dogs       0.63      0.63      0.63       197\n",
      "      panda       0.83      0.87      0.85       203\n",
      "\n",
      "avg / total       0.72      0.72      0.72       600\n",
      "\n"
     ]
    }
   ],
   "source": [
    "print(classification_report(\n",
    "    y_test.argmax(axis=1), \n",
    "    y_pred.argmax(axis=1), \n",
    "    target_names=lb.classes_))"
   ]
  },
  {
   "cell_type": "code",
   "execution_count": 48,
   "metadata": {},
   "outputs": [],
   "source": [
    "model.save('mymodel.h5')"
   ]
  },
  {
   "cell_type": "code",
   "execution_count": 51,
   "metadata": {},
   "outputs": [],
   "source": [
    "import pickle"
   ]
  },
  {
   "cell_type": "code",
   "execution_count": 52,
   "metadata": {},
   "outputs": [],
   "source": [
    "f = open('lb.pkl', 'wb')\n",
    "pickle.dump(lb, f)\n",
    "f.close()"
   ]
  },
  {
   "cell_type": "code",
   "execution_count": null,
   "metadata": {},
   "outputs": [],
   "source": [
    "https://bit.ly/2OKCTYm"
   ]
  },
  {
   "cell_type": "code",
   "execution_count": null,
   "metadata": {},
   "outputs": [],
   "source": []
  },
  {
   "cell_type": "code",
   "execution_count": null,
   "metadata": {},
   "outputs": [],
   "source": []
  },
  {
   "cell_type": "code",
   "execution_count": null,
   "metadata": {},
   "outputs": [],
   "source": []
  },
  {
   "cell_type": "code",
   "execution_count": null,
   "metadata": {},
   "outputs": [],
   "source": []
  },
  {
   "cell_type": "code",
   "execution_count": null,
   "metadata": {},
   "outputs": [],
   "source": []
  }
 ],
 "metadata": {
  "kernelspec": {
   "display_name": "Python 3",
   "language": "python",
   "name": "python3"
  },
  "language_info": {
   "codemirror_mode": {
    "name": "ipython",
    "version": 3
   },
   "file_extension": ".py",
   "mimetype": "text/x-python",
   "name": "python",
   "nbconvert_exporter": "python",
   "pygments_lexer": "ipython3",
   "version": "3.6.5"
  }
 },
 "nbformat": 4,
 "nbformat_minor": 2
}

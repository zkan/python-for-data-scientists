{
 "cells": [
  {
   "cell_type": "markdown",
   "metadata": {},
   "source": [
    "# Refreshing Python Essentials: Python"
   ]
  },
  {
   "cell_type": "markdown",
   "metadata": {},
   "source": [
    "## Outline\n",
    "\n",
    "* [Basics](#Basics)\n",
    "* [Conditions](#Conditions)\n",
    "* [Functions](#Functions)\n",
    "* [Challenge](#Challenge)"
   ]
  },
  {
   "cell_type": "markdown",
   "metadata": {},
   "source": [
    "## Basics"
   ]
  },
  {
   "cell_type": "code",
   "execution_count": null,
   "metadata": {},
   "outputs": [],
   "source": [
    "print('hi')"
   ]
  },
  {
   "cell_type": "markdown",
   "metadata": {},
   "source": [
    "### Variables"
   ]
  },
  {
   "cell_type": "code",
   "execution_count": null,
   "metadata": {},
   "outputs": [],
   "source": [
    "a = 10\n",
    "b = 20"
   ]
  },
  {
   "cell_type": "code",
   "execution_count": null,
   "metadata": {},
   "outputs": [],
   "source": [
    "a + b"
   ]
  },
  {
   "cell_type": "markdown",
   "metadata": {},
   "source": [
    "### List"
   ]
  },
  {
   "cell_type": "code",
   "execution_count": null,
   "metadata": {},
   "outputs": [],
   "source": [
    "fruits = ['apples', 'oranges', 'pears', 'apricots']"
   ]
  },
  {
   "cell_type": "markdown",
   "metadata": {},
   "source": [
    "#### Slicing"
   ]
  },
  {
   "cell_type": "code",
   "execution_count": null,
   "metadata": {},
   "outputs": [],
   "source": [
    "fruits[0:2]"
   ]
  },
  {
   "cell_type": "markdown",
   "metadata": {},
   "source": [
    "### Dictionary (Dict)"
   ]
  },
  {
   "cell_type": "code",
   "execution_count": null,
   "metadata": {},
   "outputs": [],
   "source": [
    "course = {\n",
    "    'name': 'Python for Young Data Scientists',\n",
    "    'venue': 'The Connection',\n",
    "    'cost': 999\n",
    "}\n",
    "\n",
    "print(course['name'])\n",
    "print(course['venue'])\n",
    "print(course['cost'])"
   ]
  },
  {
   "cell_type": "markdown",
   "metadata": {},
   "source": [
    "### Unpacking"
   ]
  },
  {
   "cell_type": "code",
   "execution_count": null,
   "metadata": {},
   "outputs": [],
   "source": [
    "a, b, c = [1, 2, 3]\n",
    "print(a, b, c)"
   ]
  },
  {
   "cell_type": "code",
   "execution_count": null,
   "metadata": {},
   "outputs": [],
   "source": [
    "a, _, c = (4, 5, 6)\n",
    "a + c"
   ]
  },
  {
   "cell_type": "markdown",
   "metadata": {},
   "source": [
    "---"
   ]
  },
  {
   "cell_type": "markdown",
   "metadata": {},
   "source": [
    "## Conditions"
   ]
  },
  {
   "cell_type": "markdown",
   "metadata": {},
   "source": [
    "| Comparison & Logical Operators | Description                       | Example            |\n",
    "|--------------------------------|-----------------------------------|--------------------|\n",
    "| >                              | Greater than                      |  5 > 3             |\n",
    "| <                              | Less than                         | 5 < 3              |\n",
    "| >=                             | Greater than or equal to          | 5 >= 3             |\n",
    "| <=                             | Less than or equal to             | 5 <= 3             |\n",
    "| ==                             | Equal to                          | 5 == 3             |\n",
    "| !=                             | Not equal to                      | 5 != 3             |\n",
    "| and                            | Change both the conditions        | x > 18 and x <= 35 |\n",
    "| or                             | At least one condition holds True | x > 35 or x < 60   |\n",
    "| not                            | Opposite of condition             | not True           |"
   ]
  },
  {
   "cell_type": "code",
   "execution_count": null,
   "metadata": {},
   "outputs": [],
   "source": [
    "number = 1\n",
    "\n",
    "if number == 1:\n",
    "    print('1')\n",
    "elif number == 2:\n",
    "    print('2')\n",
    "else:\n",
    "    print('Other')"
   ]
  },
  {
   "cell_type": "markdown",
   "metadata": {},
   "source": [
    "---"
   ]
  },
  {
   "cell_type": "markdown",
   "metadata": {},
   "source": [
    "## Functions"
   ]
  },
  {
   "cell_type": "code",
   "execution_count": null,
   "metadata": {},
   "outputs": [],
   "source": [
    "def just_hello():\n",
    "    print('Hello')\n",
    "    print('hi')\n",
    "    \n",
    "just_hello()"
   ]
  },
  {
   "cell_type": "code",
   "execution_count": null,
   "metadata": {},
   "outputs": [],
   "source": [
    "def get_the_mean(a, b, c, d, f):\n",
    "    return (a + b + c + d + f) / 5\n",
    "\n",
    "print(get_the_mean(1, 2, 3, 4, 5))"
   ]
  },
  {
   "cell_type": "markdown",
   "metadata": {},
   "source": [
    "### Map"
   ]
  },
  {
   "cell_type": "code",
   "execution_count": null,
   "metadata": {},
   "outputs": [],
   "source": [
    "def square(x):\n",
    "    return x * x"
   ]
  },
  {
   "cell_type": "code",
   "execution_count": null,
   "metadata": {},
   "outputs": [],
   "source": [
    "numbers = [1, 2, 3, 4, 5]\n",
    "map(square, numbers)"
   ]
  },
  {
   "cell_type": "code",
   "execution_count": null,
   "metadata": {},
   "outputs": [],
   "source": [
    "list(map(square, numbers))"
   ]
  },
  {
   "cell_type": "markdown",
   "metadata": {},
   "source": [
    "---"
   ]
  },
  {
   "cell_type": "markdown",
   "metadata": {},
   "source": [
    "## Challenge"
   ]
  },
  {
   "cell_type": "markdown",
   "metadata": {},
   "source": [
    "เขียนฟังก์ชั่น `fizzbuzz` รับ input เป็น list ของจำนวนเต็ม โดยฟังก์ชั่นนั้นมีการทำงานตามนี้\n",
    "\n",
    "1. ถ้าเลขใน list นั้นหารด้วย 3 ลงตัว ให้ส่งค่า 'Fizz'\n",
    "2. ถ้าเลขใน list นั้นหารด้วย 5 ลงตัว ให้ส่งค่า 'Buzz'\n",
    "3. ถ้าเลขใน list นั้นหารด้วย 3 และ 5 ลงตัว ให้ส่งค่า 'FizzBuzz'\n",
    "4. ถ้าเลขใน list นั้นหาร 3 และ 5 ไม่ลงตัว ให้ส่งเลขนั้นกลับมา\n",
    "\n",
    "ตัวอย่างเช่น\n",
    "\n",
    "ถ้าเรามี list คือ `[1, 3, 5, 30, 2]` เราจะได้ผลลัพธ์คือ `[1, 'Fizz', 'Buzz', 'FizzBuzz', 2]`"
   ]
  },
  {
   "cell_type": "code",
   "execution_count": null,
   "metadata": {},
   "outputs": [],
   "source": []
  }
 ],
 "metadata": {
  "kernelspec": {
   "display_name": "Python 3",
   "language": "python",
   "name": "python3"
  },
  "language_info": {
   "codemirror_mode": {
    "name": "ipython",
    "version": 3
   },
   "file_extension": ".py",
   "mimetype": "text/x-python",
   "name": "python",
   "nbconvert_exporter": "python",
   "pygments_lexer": "ipython3",
   "version": "3.7.1"
  }
 },
 "nbformat": 4,
 "nbformat_minor": 2
}

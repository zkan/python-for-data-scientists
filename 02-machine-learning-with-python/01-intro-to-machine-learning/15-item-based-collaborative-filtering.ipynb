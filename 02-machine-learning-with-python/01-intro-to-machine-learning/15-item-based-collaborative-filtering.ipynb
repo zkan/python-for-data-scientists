{
 "cells": [
  {
   "cell_type": "markdown",
   "metadata": {},
   "source": [
    "# Item-Based Collaborative Filtering"
   ]
  },
  {
   "cell_type": "code",
   "execution_count": 2,
   "metadata": {},
   "outputs": [],
   "source": [
    "import pandas as pd"
   ]
  },
  {
   "cell_type": "code",
   "execution_count": 3,
   "metadata": {},
   "outputs": [],
   "source": [
    "wine_ratings = pd.read_csv('data/wine-reviews.csv')"
   ]
  },
  {
   "cell_type": "code",
   "execution_count": 4,
   "metadata": {},
   "outputs": [
    {
     "data": {
      "text/html": [
       "<div>\n",
       "<style scoped>\n",
       "    .dataframe tbody tr th:only-of-type {\n",
       "        vertical-align: middle;\n",
       "    }\n",
       "\n",
       "    .dataframe tbody tr th {\n",
       "        vertical-align: top;\n",
       "    }\n",
       "\n",
       "    .dataframe thead th {\n",
       "        text-align: right;\n",
       "    }\n",
       "</style>\n",
       "<table border=\"1\" class=\"dataframe\">\n",
       "  <thead>\n",
       "    <tr style=\"text-align: right;\">\n",
       "      <th></th>\n",
       "      <th>id</th>\n",
       "      <th>username</th>\n",
       "      <th>wine</th>\n",
       "      <th>rating</th>\n",
       "      <th>comment</th>\n",
       "    </tr>\n",
       "  </thead>\n",
       "  <tbody>\n",
       "    <tr>\n",
       "      <th>0</th>\n",
       "      <td>0</td>\n",
       "      <td>jadianes</td>\n",
       "      <td>Manzanilla La Gitana</td>\n",
       "      <td>4</td>\n",
       "      <td>Beautiful Manzanilla. Great price.</td>\n",
       "    </tr>\n",
       "    <tr>\n",
       "      <th>1</th>\n",
       "      <td>1</td>\n",
       "      <td>jadianes</td>\n",
       "      <td>Pol Roger Rose 1998</td>\n",
       "      <td>3</td>\n",
       "      <td>Classy Rose. Not great.</td>\n",
       "    </tr>\n",
       "    <tr>\n",
       "      <th>2</th>\n",
       "      <td>2</td>\n",
       "      <td>jadianes</td>\n",
       "      <td>Molino Real 2002</td>\n",
       "      <td>4</td>\n",
       "      <td>This can be great with time.</td>\n",
       "    </tr>\n",
       "    <tr>\n",
       "      <th>3</th>\n",
       "      <td>3</td>\n",
       "      <td>jadianes</td>\n",
       "      <td>Le Grappin Bagnum Rose 2013</td>\n",
       "      <td>2</td>\n",
       "      <td>Drinkable...</td>\n",
       "    </tr>\n",
       "    <tr>\n",
       "      <th>4</th>\n",
       "      <td>4</td>\n",
       "      <td>jadianes</td>\n",
       "      <td>La Bota de Amontillado 1</td>\n",
       "      <td>5</td>\n",
       "      <td>A treasure of a wine</td>\n",
       "    </tr>\n",
       "  </tbody>\n",
       "</table>\n",
       "</div>"
      ],
      "text/plain": [
       "   id  username                         wine  rating  \\\n",
       "0   0  jadianes         Manzanilla La Gitana       4   \n",
       "1   1  jadianes          Pol Roger Rose 1998       3   \n",
       "2   2  jadianes             Molino Real 2002       4   \n",
       "3   3  jadianes  Le Grappin Bagnum Rose 2013       2   \n",
       "4   4  jadianes     La Bota de Amontillado 1       5   \n",
       "\n",
       "                              comment  \n",
       "0  Beautiful Manzanilla. Great price.  \n",
       "1             Classy Rose. Not great.  \n",
       "2        This can be great with time.  \n",
       "3                        Drinkable...  \n",
       "4                A treasure of a wine  "
      ]
     },
     "execution_count": 4,
     "metadata": {},
     "output_type": "execute_result"
    }
   ],
   "source": [
    "wine_ratings.head()"
   ]
  },
  {
   "cell_type": "code",
   "execution_count": 5,
   "metadata": {},
   "outputs": [],
   "source": [
    "wine_ratings_pivoted = wine_ratings.pivot('username', 'wine', 'rating').fillna(0)"
   ]
  },
  {
   "cell_type": "code",
   "execution_count": 6,
   "metadata": {},
   "outputs": [
    {
     "data": {
      "text/html": [
       "<div>\n",
       "<style scoped>\n",
       "    .dataframe tbody tr th:only-of-type {\n",
       "        vertical-align: middle;\n",
       "    }\n",
       "\n",
       "    .dataframe tbody tr th {\n",
       "        vertical-align: top;\n",
       "    }\n",
       "\n",
       "    .dataframe thead th {\n",
       "        text-align: right;\n",
       "    }\n",
       "</style>\n",
       "<table border=\"1\" class=\"dataframe\">\n",
       "  <thead>\n",
       "    <tr style=\"text-align: right;\">\n",
       "      <th>wine</th>\n",
       "      <th>Chateau Latour 1982</th>\n",
       "      <th>JL Chave Hermitage 2001</th>\n",
       "      <th>La Bota de Amontillado 1</th>\n",
       "      <th>Le Grappin Bagnum Rose 2013</th>\n",
       "      <th>Manzanilla La Gitana</th>\n",
       "      <th>Molino Real 2002</th>\n",
       "      <th>Pol Roger Rose 1998</th>\n",
       "      <th>Raveneu Le Clos 1996</th>\n",
       "      <th>Rosseau Chambertin 2001</th>\n",
       "      <th>Vega Sicilia Unico 1989</th>\n",
       "      <th>Viña Tondonia Blanco Reserva 1981</th>\n",
       "    </tr>\n",
       "    <tr>\n",
       "      <th>username</th>\n",
       "      <th></th>\n",
       "      <th></th>\n",
       "      <th></th>\n",
       "      <th></th>\n",
       "      <th></th>\n",
       "      <th></th>\n",
       "      <th></th>\n",
       "      <th></th>\n",
       "      <th></th>\n",
       "      <th></th>\n",
       "      <th></th>\n",
       "    </tr>\n",
       "  </thead>\n",
       "  <tbody>\n",
       "    <tr>\n",
       "      <th>carlos</th>\n",
       "      <td>0.0</td>\n",
       "      <td>5.0</td>\n",
       "      <td>0.0</td>\n",
       "      <td>0.0</td>\n",
       "      <td>4.0</td>\n",
       "      <td>4.0</td>\n",
       "      <td>0.0</td>\n",
       "      <td>0.0</td>\n",
       "      <td>0.0</td>\n",
       "      <td>0.0</td>\n",
       "      <td>0.0</td>\n",
       "    </tr>\n",
       "    <tr>\n",
       "      <th>jadianes</th>\n",
       "      <td>0.0</td>\n",
       "      <td>0.0</td>\n",
       "      <td>5.0</td>\n",
       "      <td>2.0</td>\n",
       "      <td>4.0</td>\n",
       "      <td>4.0</td>\n",
       "      <td>3.0</td>\n",
       "      <td>0.0</td>\n",
       "      <td>0.0</td>\n",
       "      <td>0.0</td>\n",
       "      <td>0.0</td>\n",
       "    </tr>\n",
       "    <tr>\n",
       "      <th>john</th>\n",
       "      <td>0.0</td>\n",
       "      <td>4.0</td>\n",
       "      <td>2.0</td>\n",
       "      <td>3.0</td>\n",
       "      <td>2.0</td>\n",
       "      <td>2.0</td>\n",
       "      <td>4.0</td>\n",
       "      <td>0.0</td>\n",
       "      <td>0.0</td>\n",
       "      <td>0.0</td>\n",
       "      <td>0.0</td>\n",
       "    </tr>\n",
       "    <tr>\n",
       "      <th>lluis</th>\n",
       "      <td>4.0</td>\n",
       "      <td>0.0</td>\n",
       "      <td>0.0</td>\n",
       "      <td>0.0</td>\n",
       "      <td>4.0</td>\n",
       "      <td>0.0</td>\n",
       "      <td>0.0</td>\n",
       "      <td>0.0</td>\n",
       "      <td>4.0</td>\n",
       "      <td>0.0</td>\n",
       "      <td>5.0</td>\n",
       "    </tr>\n",
       "    <tr>\n",
       "      <th>mari</th>\n",
       "      <td>0.0</td>\n",
       "      <td>0.0</td>\n",
       "      <td>0.0</td>\n",
       "      <td>0.0</td>\n",
       "      <td>3.0</td>\n",
       "      <td>5.0</td>\n",
       "      <td>2.0</td>\n",
       "      <td>5.0</td>\n",
       "      <td>0.0</td>\n",
       "      <td>0.0</td>\n",
       "      <td>0.0</td>\n",
       "    </tr>\n",
       "    <tr>\n",
       "      <th>pepe</th>\n",
       "      <td>0.0</td>\n",
       "      <td>0.0</td>\n",
       "      <td>5.0</td>\n",
       "      <td>0.0</td>\n",
       "      <td>4.0</td>\n",
       "      <td>0.0</td>\n",
       "      <td>2.0</td>\n",
       "      <td>0.0</td>\n",
       "      <td>4.0</td>\n",
       "      <td>4.0</td>\n",
       "      <td>0.0</td>\n",
       "    </tr>\n",
       "    <tr>\n",
       "      <th>teus</th>\n",
       "      <td>0.0</td>\n",
       "      <td>0.0</td>\n",
       "      <td>5.0</td>\n",
       "      <td>0.0</td>\n",
       "      <td>4.0</td>\n",
       "      <td>5.0</td>\n",
       "      <td>0.0</td>\n",
       "      <td>0.0</td>\n",
       "      <td>0.0</td>\n",
       "      <td>0.0</td>\n",
       "      <td>4.0</td>\n",
       "    </tr>\n",
       "    <tr>\n",
       "      <th>yasset</th>\n",
       "      <td>0.0</td>\n",
       "      <td>0.0</td>\n",
       "      <td>0.0</td>\n",
       "      <td>0.0</td>\n",
       "      <td>4.0</td>\n",
       "      <td>1.0</td>\n",
       "      <td>2.0</td>\n",
       "      <td>4.0</td>\n",
       "      <td>0.0</td>\n",
       "      <td>5.0</td>\n",
       "      <td>0.0</td>\n",
       "    </tr>\n",
       "  </tbody>\n",
       "</table>\n",
       "</div>"
      ],
      "text/plain": [
       "wine      Chateau Latour 1982  JL Chave Hermitage 2001  \\\n",
       "username                                                 \n",
       "carlos                    0.0                      5.0   \n",
       "jadianes                  0.0                      0.0   \n",
       "john                      0.0                      4.0   \n",
       "lluis                     4.0                      0.0   \n",
       "mari                      0.0                      0.0   \n",
       "pepe                      0.0                      0.0   \n",
       "teus                      0.0                      0.0   \n",
       "yasset                    0.0                      0.0   \n",
       "\n",
       "wine      La Bota de Amontillado 1  Le Grappin Bagnum Rose 2013  \\\n",
       "username                                                          \n",
       "carlos                         0.0                          0.0   \n",
       "jadianes                       5.0                          2.0   \n",
       "john                           2.0                          3.0   \n",
       "lluis                          0.0                          0.0   \n",
       "mari                           0.0                          0.0   \n",
       "pepe                           5.0                          0.0   \n",
       "teus                           5.0                          0.0   \n",
       "yasset                         0.0                          0.0   \n",
       "\n",
       "wine      Manzanilla La Gitana  Molino Real 2002  Pol Roger Rose 1998  \\\n",
       "username                                                                \n",
       "carlos                     4.0               4.0                  0.0   \n",
       "jadianes                   4.0               4.0                  3.0   \n",
       "john                       2.0               2.0                  4.0   \n",
       "lluis                      4.0               0.0                  0.0   \n",
       "mari                       3.0               5.0                  2.0   \n",
       "pepe                       4.0               0.0                  2.0   \n",
       "teus                       4.0               5.0                  0.0   \n",
       "yasset                     4.0               1.0                  2.0   \n",
       "\n",
       "wine      Raveneu Le Clos 1996  Rosseau Chambertin 2001  \\\n",
       "username                                                  \n",
       "carlos                     0.0                      0.0   \n",
       "jadianes                   0.0                      0.0   \n",
       "john                       0.0                      0.0   \n",
       "lluis                      0.0                      4.0   \n",
       "mari                       5.0                      0.0   \n",
       "pepe                       0.0                      4.0   \n",
       "teus                       0.0                      0.0   \n",
       "yasset                     4.0                      0.0   \n",
       "\n",
       "wine      Vega Sicilia Unico 1989  Viña Tondonia Blanco Reserva 1981  \n",
       "username                                                              \n",
       "carlos                        0.0                                0.0  \n",
       "jadianes                      0.0                                0.0  \n",
       "john                          0.0                                0.0  \n",
       "lluis                         0.0                                5.0  \n",
       "mari                          0.0                                0.0  \n",
       "pepe                          4.0                                0.0  \n",
       "teus                          0.0                                4.0  \n",
       "yasset                        5.0                                0.0  "
      ]
     },
     "execution_count": 6,
     "metadata": {},
     "output_type": "execute_result"
    }
   ],
   "source": [
    "wine_ratings_pivoted"
   ]
  },
  {
   "cell_type": "code",
   "execution_count": 8,
   "metadata": {},
   "outputs": [],
   "source": [
    "from sklearn.metrics.pairwise import cosine_similarity"
   ]
  },
  {
   "cell_type": "code",
   "execution_count": 9,
   "metadata": {},
   "outputs": [
    {
     "data": {
      "text/plain": [
       "array([[0.68968881]])"
      ]
     },
     "execution_count": 9,
     "metadata": {},
     "output_type": "execute_result"
    }
   ],
   "source": [
    "cosine_similarity([wine_ratings_pivoted['La Bota de Amontillado 1']], [wine_ratings_pivoted['Manzanilla La Gitana']])"
   ]
  },
  {
   "cell_type": "code",
   "execution_count": 10,
   "metadata": {},
   "outputs": [
    {
     "data": {
      "text/plain": [
       "Index(['Chateau Latour 1982', 'JL Chave Hermitage 2001',\n",
       "       'La Bota de Amontillado 1', 'Le Grappin Bagnum Rose 2013',\n",
       "       'Manzanilla La Gitana', 'Molino Real 2002', 'Pol Roger Rose 1998',\n",
       "       'Raveneu Le Clos 1996', 'Rosseau Chambertin 2001',\n",
       "       'Vega Sicilia Unico 1989', 'Viña Tondonia Blanco Reserva 1981'],\n",
       "      dtype='object', name='wine')"
      ]
     },
     "execution_count": 10,
     "metadata": {},
     "output_type": "execute_result"
    }
   ],
   "source": [
    "wine_ratings_pivoted.columns"
   ]
  },
  {
   "cell_type": "code",
   "execution_count": 12,
   "metadata": {},
   "outputs": [],
   "source": [
    "similarity_vector = {}\n",
    "for each in wine_ratings_pivoted.columns:\n",
    "    similarity = cosine_similarity(\n",
    "        [wine_ratings_pivoted[each]], \n",
    "        [wine_ratings_pivoted['Le Grappin Bagnum Rose 2013']]\n",
    "    )[0][0]\n",
    "    similarity_vector[each] = similarity"
   ]
  },
  {
   "cell_type": "code",
   "execution_count": 13,
   "metadata": {},
   "outputs": [
    {
     "data": {
      "text/plain": [
       "{'Chateau Latour 1982': 0.0,\n",
       " 'JL Chave Hermitage 2001': 0.5197776981890521,\n",
       " 'La Bota de Amontillado 1': 0.49926918353143734,\n",
       " 'Le Grappin Bagnum Rose 2013': 1.0,\n",
       " 'Manzanilla La Gitana': 0.3719144998532985,\n",
       " 'Molino Real 2002': 0.4162907234150368,\n",
       " 'Pol Roger Rose 1998': 0.8207293546575959,\n",
       " 'Raveneu Le Clos 1996': 0.0,\n",
       " 'Rosseau Chambertin 2001': 0.0,\n",
       " 'Vega Sicilia Unico 1989': 0.0,\n",
       " 'Viña Tondonia Blanco Reserva 1981': 0.0}"
      ]
     },
     "execution_count": 13,
     "metadata": {},
     "output_type": "execute_result"
    }
   ],
   "source": [
    "similarity_vector"
   ]
  },
  {
   "cell_type": "code",
   "execution_count": 14,
   "metadata": {},
   "outputs": [
    {
     "data": {
      "text/plain": [
       "['Le Grappin Bagnum Rose 2013',\n",
       " 'Pol Roger Rose 1998',\n",
       " 'JL Chave Hermitage 2001',\n",
       " 'La Bota de Amontillado 1',\n",
       " 'Molino Real 2002',\n",
       " 'Manzanilla La Gitana',\n",
       " 'Chateau Latour 1982',\n",
       " 'Raveneu Le Clos 1996',\n",
       " 'Rosseau Chambertin 2001',\n",
       " 'Vega Sicilia Unico 1989',\n",
       " 'Viña Tondonia Blanco Reserva 1981']"
      ]
     },
     "execution_count": 14,
     "metadata": {},
     "output_type": "execute_result"
    }
   ],
   "source": [
    "def get_key(item):\n",
    "    return item.key\n",
    "\n",
    "sorted(similarity_vector, key=similarity_vector.get, reverse=True)"
   ]
  },
  {
   "cell_type": "code",
   "execution_count": 15,
   "metadata": {},
   "outputs": [
    {
     "data": {
      "text/plain": [
       "wine\n",
       "Chateau Latour 1982                  0.0\n",
       "JL Chave Hermitage 2001              0.0\n",
       "La Bota de Amontillado 1             0.0\n",
       "Le Grappin Bagnum Rose 2013          0.0\n",
       "Manzanilla La Gitana                 3.0\n",
       "Molino Real 2002                     5.0\n",
       "Pol Roger Rose 1998                  2.0\n",
       "Raveneu Le Clos 1996                 5.0\n",
       "Rosseau Chambertin 2001              0.0\n",
       "Vega Sicilia Unico 1989              0.0\n",
       "Viña Tondonia Blanco Reserva 1981    0.0\n",
       "Name: mari, dtype: float64"
      ]
     },
     "execution_count": 15,
     "metadata": {},
     "output_type": "execute_result"
    }
   ],
   "source": [
    "wine_ratings_pivoted.loc['mari', :]"
   ]
  },
  {
   "cell_type": "code",
   "execution_count": 19,
   "metadata": {},
   "outputs": [],
   "source": [
    "ratings = wine_ratings_pivoted.loc[\n",
    "    'mari', [\n",
    "        'Manzanilla La Gitana', \n",
    "        'Molino Real 2002', \n",
    "        'Pol Roger Rose 1998', \n",
    "        'Raveneu Le Clos 1996'\n",
    "    ]\n",
    "]"
   ]
  },
  {
   "cell_type": "code",
   "execution_count": 20,
   "metadata": {},
   "outputs": [
    {
     "data": {
      "text/plain": [
       "wine\n",
       "Manzanilla La Gitana    3.0\n",
       "Molino Real 2002        5.0\n",
       "Pol Roger Rose 1998     2.0\n",
       "Raveneu Le Clos 1996    5.0\n",
       "Name: mari, dtype: float64"
      ]
     },
     "execution_count": 20,
     "metadata": {},
     "output_type": "execute_result"
    }
   ],
   "source": [
    "ratings"
   ]
  },
  {
   "cell_type": "code",
   "execution_count": 17,
   "metadata": {},
   "outputs": [],
   "source": [
    "weigted_sum = (\n",
    "    (ratings['Manzanilla La Gitana'] * similarity_vector['Manzanilla La Gitana']) + \n",
    "    (ratings['Molino Real 2002'] * similarity_vector['Molino Real 2002']) + \n",
    "    (ratings['Pol Roger Rose 1998'] * similarity_vector['Pol Roger Rose 1998']) + \n",
    "    (ratings['Raveneu Le Clos 1996'] * similarity_vector['Raveneu Le Clos 1996'])\n",
    ") / (similarity_vector['Manzanilla La Gitana'] + similarity_vector['Molino Real 2002'] + similarity_vector['Pol Roger Rose 1998'] + similarity_vector['Raveneu Le Clos 1996'])"
   ]
  },
  {
   "cell_type": "code",
   "execution_count": 18,
   "metadata": {},
   "outputs": [
    {
     "data": {
      "text/plain": [
       "3.0073664226843553"
      ]
     },
     "execution_count": 18,
     "metadata": {},
     "output_type": "execute_result"
    }
   ],
   "source": [
    "weigted_sum"
   ]
  },
  {
   "cell_type": "code",
   "execution_count": null,
   "metadata": {},
   "outputs": [],
   "source": []
  }
 ],
 "metadata": {
  "anaconda-cloud": {},
  "kernelspec": {
   "display_name": "Python 3",
   "language": "python",
   "name": "python3"
  },
  "language_info": {
   "codemirror_mode": {
    "name": "ipython",
    "version": 3
   },
   "file_extension": ".py",
   "mimetype": "text/x-python",
   "name": "python",
   "nbconvert_exporter": "python",
   "pygments_lexer": "ipython3",
   "version": "3.6.4"
  }
 },
 "nbformat": 4,
 "nbformat_minor": 2
}

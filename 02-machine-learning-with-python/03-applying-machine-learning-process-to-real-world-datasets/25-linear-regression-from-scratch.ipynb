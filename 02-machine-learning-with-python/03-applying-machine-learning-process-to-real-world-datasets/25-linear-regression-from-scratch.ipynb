{
 "cells": [
  {
   "cell_type": "code",
   "execution_count": 1,
   "metadata": {},
   "outputs": [],
   "source": [
    "def dot_product(a, b):\n",
    "    if len(a) != len(b):\n",
    "        return -1\n",
    "\n",
    "    result = 0\n",
    "    for each in range(len(a)):\n",
    "        result += a[each] * b[each]\n",
    "\n",
    "    return result"
   ]
  },
  {
   "cell_type": "code",
   "execution_count": 2,
   "metadata": {},
   "outputs": [],
   "source": [
    "def compute_cost(X, y, theta):\n",
    "    J = 0\n",
    "    predictions = []\n",
    "\n",
    "    for each in X:\n",
    "        predictions.append(dot_product(each, theta))\n",
    "\n",
    "    errors = []\n",
    "    for index, each in enumerate(predictions):\n",
    "        errors.append(each - y[index])\n",
    "\n",
    "    J = (1.0 / 2.0) * dot_product(errors, errors)\n",
    "\n",
    "    return J"
   ]
  },
  {
   "cell_type": "code",
   "execution_count": 3,
   "metadata": {},
   "outputs": [],
   "source": [
    "def run_gradient_descent(X, y, theta, number_of_iterations):\n",
    "    alpha = 0.01\n",
    "    J_history = []\n",
    "\n",
    "    for each_iteration in range(number_of_iterations):\n",
    "        predictions = []\n",
    "        for each_example in X:\n",
    "            predictions.append(dot_product(each_example, theta))\n",
    "\n",
    "        for t_index, each_theta in enumerate(theta):\n",
    "            diff = []\n",
    "            X_col = []\n",
    "            for p_index, each_prediction in enumerate(predictions):\n",
    "                diff.append(each_prediction - y[p_index])\n",
    "                X_col.append(X[t_index][p_index])\n",
    "\n",
    "            error = dot_product(diff, X_col)\n",
    "            result = each_theta - (alpha * error)\n",
    "            theta[t_index] = result\n",
    "\n",
    "        J = compute_cost(X, y, theta)\n",
    "        J_history.append(J)\n",
    "\n",
    "    return (J_history, theta)"
   ]
  },
  {
   "cell_type": "code",
   "execution_count": 4,
   "metadata": {},
   "outputs": [
    {
     "name": "stdout",
     "output_type": "stream",
     "text": [
      "[2.6572999999999993, 1.4340467700000001, 0.8330420285729998, 0.5415905512402678, 0.4029957986666608, 0.339058852804416, 0.31098737943231103, 0.2997051253564717, 0.2959527141041505, 0.2953245352067722]\n",
      "[0.21850056185143937, 0.5469413946894416]\n"
     ]
    }
   ],
   "source": [
    "X = [[1, 2], [3, 4]]\n",
    "y = [2, 2.5]\n",
    "theta = [0, 0]\n",
    "number_of_iterations = 10\n",
    "\n",
    "J_history, theta = run_gradient_descent(X, y, theta, number_of_iterations)\n",
    "print(J_history)\n",
    "print(theta)"
   ]
  }
 ],
 "metadata": {
  "kernelspec": {
   "display_name": "Python 3",
   "language": "python",
   "name": "python3"
  },
  "language_info": {
   "codemirror_mode": {
    "name": "ipython",
    "version": 3
   },
   "file_extension": ".py",
   "mimetype": "text/x-python",
   "name": "python",
   "nbconvert_exporter": "python",
   "pygments_lexer": "ipython3",
   "version": "3.7.1"
  }
 },
 "nbformat": 4,
 "nbformat_minor": 2
}

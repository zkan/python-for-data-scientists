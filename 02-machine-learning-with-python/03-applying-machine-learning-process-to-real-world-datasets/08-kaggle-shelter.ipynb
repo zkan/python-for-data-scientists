{
 "cells": [
  {
   "cell_type": "markdown",
   "metadata": {},
   "source": [
    "# Shelter Animal Outcomes"
   ]
  },
  {
   "cell_type": "markdown",
   "metadata": {},
   "source": [
    "https://www.kaggle.com/c/shelter-animal-outcomes"
   ]
  },
  {
   "cell_type": "code",
   "execution_count": null,
   "metadata": {},
   "outputs": [],
   "source": [
    "%matplotlib inline\n",
    "\n",
    "import matplotlib.pyplot as plt\n",
    "import pandas as pd\n",
    "import seaborn as sns"
   ]
  },
  {
   "cell_type": "code",
   "execution_count": null,
   "metadata": {},
   "outputs": [],
   "source": [
    "animals = pd.read_csv('data/shelter-train.csv')"
   ]
  },
  {
   "cell_type": "code",
   "execution_count": null,
   "metadata": {},
   "outputs": [],
   "source": [
    "animals.head(2)"
   ]
  },
  {
   "cell_type": "code",
   "execution_count": null,
   "metadata": {},
   "outputs": [],
   "source": [
    "animals.AgeuponOutcome.value_counts().plot(kind='bar', figsize=(10, 6))"
   ]
  },
  {
   "cell_type": "code",
   "execution_count": null,
   "metadata": {},
   "outputs": [],
   "source": [
    "sns.countplot(data=animals, x=animals.AgeuponOutcome)"
   ]
  },
  {
   "cell_type": "code",
   "execution_count": null,
   "metadata": {},
   "outputs": [],
   "source": [
    "g = sns.countplot(data=animals, x=animals.AgeuponOutcome)\n",
    "g.set_xticklabels(g.get_xticklabels(), rotation=90)"
   ]
  },
  {
   "cell_type": "code",
   "execution_count": null,
   "metadata": {},
   "outputs": [],
   "source": [
    "f, ax = plt.subplots(1, 1, figsize=(10, 6))\n",
    "g = sns.countplot(data=animals, x=animals.AgeuponOutcome, ax=ax)\n",
    "g.set_xticklabels(g.get_xticklabels(), rotation=90)"
   ]
  },
  {
   "cell_type": "code",
   "execution_count": null,
   "metadata": {},
   "outputs": [],
   "source": [
    "def get_age_in_days(age_upon_outcome):\n",
    "    if str(age_upon_outcome) == 'nan':\n",
    "        return 0\n",
    "    time_value, unit = age_upon_outcome.split(' ')\n",
    "    if unit == 'year' or unit == 'years':\n",
    "        return int(time_value) * 365\n",
    "    if unit in ['month', 'months']:\n",
    "        return int(time_value) * 30\n",
    "    if unit in ['week', 'weeks']:\n",
    "        return int(time_value) * 7\n",
    "    if unit in ['day', 'days']:\n",
    "        return int(time_value)"
   ]
  },
  {
   "cell_type": "code",
   "execution_count": null,
   "metadata": {},
   "outputs": [],
   "source": [
    "animals['AgeInDays'] = animals.AgeuponOutcome.map(get_age_in_days)"
   ]
  },
  {
   "cell_type": "code",
   "execution_count": null,
   "metadata": {},
   "outputs": [],
   "source": [
    "animals.head(3)"
   ]
  },
  {
   "cell_type": "code",
   "execution_count": null,
   "metadata": {},
   "outputs": [],
   "source": [
    "animals.boxplot(column=['AgeInDays'], by='OutcomeType', figsize=(10, 6))"
   ]
  },
  {
   "cell_type": "code",
   "execution_count": null,
   "metadata": {},
   "outputs": [],
   "source": [
    "f, ax = plt.subplots(1, 1, figsize=(10, 6))\n",
    "sns.boxplot(data=animals, x='OutcomeType', y='AgeInDays', ax=ax)"
   ]
  },
  {
   "cell_type": "code",
   "execution_count": null,
   "metadata": {},
   "outputs": [],
   "source": [
    "pd.cut(animals.AgeInDays, list(range(0, 7000, 100))).head(5)\n",
    "animals.groupby(pd.cut(animals.AgeInDays, list(range(0, 7000, 350)))).mean()\n",
    "avg_data_by_age = animals.groupby(pd.cut(animals.AgeInDays, list(range(0, 7000, 350)))).count()\n",
    "avg_data_by_age.AgeInDays.plot(kind='bar')"
   ]
  },
  {
   "cell_type": "code",
   "execution_count": null,
   "metadata": {},
   "outputs": [],
   "source": [
    "sns.distplot(animals.AgeInDays, bins=20, kde=False)"
   ]
  },
  {
   "cell_type": "markdown",
   "metadata": {},
   "source": [
    "ดู distribution ของสัตว์แต่ละชนิด"
   ]
  },
  {
   "cell_type": "code",
   "execution_count": null,
   "metadata": {},
   "outputs": [],
   "source": [
    "animals.AnimalType.value_counts().plot(kind='bar')"
   ]
  },
  {
   "cell_type": "code",
   "execution_count": null,
   "metadata": {},
   "outputs": [],
   "source": [
    "sns.countplot(data=animals, x=animals.AnimalType)"
   ]
  },
  {
   "cell_type": "markdown",
   "metadata": {},
   "source": [
    "ดู distribution ของ outcome type"
   ]
  },
  {
   "cell_type": "code",
   "execution_count": null,
   "metadata": {},
   "outputs": [],
   "source": [
    "animals['OutcomeType'].value_counts().plot(kind='bar')"
   ]
  },
  {
   "cell_type": "code",
   "execution_count": null,
   "metadata": {},
   "outputs": [],
   "source": [
    "sns.countplot(data=animals, x=animals.OutcomeType)"
   ]
  },
  {
   "cell_type": "markdown",
   "metadata": {},
   "source": [
    "เทียบ distribution ของสัตว์แต่ละชนิดโดยแยกตาม outcome type"
   ]
  },
  {
   "cell_type": "code",
   "execution_count": null,
   "metadata": {},
   "outputs": [],
   "source": [
    "_, (ax1, ax2) = plt.subplots(1, 2, figsize=(16, 4))\n",
    "animals[['AnimalType', 'OutcomeType']].groupby(['OutcomeType', 'AnimalType']).size().unstack().plot(kind='bar', ax=ax1, rot=0)\n",
    "animals[['AnimalType', 'OutcomeType']].groupby(['AnimalType', 'OutcomeType']).size().unstack().plot(kind='bar', ax=ax2, rot=0)"
   ]
  },
  {
   "cell_type": "code",
   "execution_count": null,
   "metadata": {},
   "outputs": [],
   "source": [
    "_, (ax1, ax2) = plt.subplots(1, 2, figsize=(16, 4))\n",
    "sns.countplot(data=animals, x='OutcomeType', hue='AnimalType', ax=ax1)\n",
    "sns.countplot(data=animals, x='AnimalType',hue='OutcomeType', ax=ax2)"
   ]
  },
  {
   "cell_type": "markdown",
   "metadata": {},
   "source": [
    "ดู distribution ของเพศ"
   ]
  },
  {
   "cell_type": "code",
   "execution_count": null,
   "metadata": {},
   "outputs": [],
   "source": [
    "animals['SexuponOutcome'].value_counts().plot(kind='bar')"
   ]
  },
  {
   "cell_type": "code",
   "execution_count": null,
   "metadata": {},
   "outputs": [],
   "source": [
    "sns.countplot(data=animals, x=animals.SexuponOutcome)"
   ]
  },
  {
   "cell_type": "code",
   "execution_count": null,
   "metadata": {},
   "outputs": [],
   "source": [
    "_, (ax1, ax2) = plt.subplots(1, 2, figsize=(16, 4))\n",
    "animals[['SexuponOutcome', 'OutcomeType']].groupby(['OutcomeType', 'SexuponOutcome']).size().unstack().plot(kind='bar', ax=ax1)\n",
    "animals[['SexuponOutcome', 'OutcomeType']].groupby(['SexuponOutcome', 'OutcomeType']).size().unstack().plot(kind='bar', ax=ax2)"
   ]
  },
  {
   "cell_type": "code",
   "execution_count": null,
   "metadata": {},
   "outputs": [],
   "source": [
    "_, (ax1, ax2) = plt.subplots(1, 2, figsize=(16, 4))\n",
    "sns.countplot(data=animals, x='OutcomeType', hue='SexuponOutcome', ax=ax1)\n",
    "sns.countplot(data=animals, x='SexuponOutcome',hue='OutcomeType', ax=ax2)"
   ]
  },
  {
   "cell_type": "code",
   "execution_count": null,
   "metadata": {},
   "outputs": [],
   "source": [
    "def get_sex(x):\n",
    "    x = str(x)\n",
    "    if 'Male' in x: return 'male'\n",
    "    if 'Female' in x: return 'female'\n",
    "    return 'unknown'"
   ]
  },
  {
   "cell_type": "code",
   "execution_count": null,
   "metadata": {},
   "outputs": [],
   "source": [
    "animals['Sex'] = animals.SexuponOutcome.apply(get_sex)"
   ]
  },
  {
   "cell_type": "code",
   "execution_count": null,
   "metadata": {},
   "outputs": [],
   "source": [
    "animals.Sex.value_counts().plot(kind='bar')"
   ]
  },
  {
   "cell_type": "code",
   "execution_count": null,
   "metadata": {},
   "outputs": [],
   "source": [
    "sns.countplot(x=animals.Sex)"
   ]
  },
  {
   "cell_type": "code",
   "execution_count": null,
   "metadata": {},
   "outputs": [],
   "source": [
    "def get_neutered(x):\n",
    "    x = str(x)\n",
    "    if 'Spayed' in x: return 'neutered'\n",
    "    if 'Neutered' in x: return 'neutered'\n",
    "    if 'Intact' in x: return 'intact'\n",
    "    return 'unknown'"
   ]
  },
  {
   "cell_type": "code",
   "execution_count": null,
   "metadata": {},
   "outputs": [],
   "source": [
    "animals['Neutered'] = animals.SexuponOutcome.apply(get_neutered)"
   ]
  },
  {
   "cell_type": "code",
   "execution_count": null,
   "metadata": {},
   "outputs": [],
   "source": [
    "animals.Neutered.value_counts().plot(kind='bar')"
   ]
  },
  {
   "cell_type": "code",
   "execution_count": null,
   "metadata": {},
   "outputs": [],
   "source": [
    "sns.countplot(x=animals.Neutered)"
   ]
  },
  {
   "cell_type": "code",
   "execution_count": null,
   "metadata": {},
   "outputs": [],
   "source": [
    "_, (ax1, ax2) = plt.subplots(2, 2, figsize=(16, 8), )\n",
    "animals[['Sex', 'OutcomeType']].groupby(['OutcomeType', 'Sex']).size().unstack().plot(kind='bar', ax=ax1[0], rot=0)\n",
    "animals[['Sex', 'OutcomeType']].groupby(['Sex', 'OutcomeType']).size().unstack().plot(kind='bar', ax=ax1[1], rot=0)\n",
    "animals[['Neutered', 'OutcomeType']].groupby(['OutcomeType', 'Neutered']).size().unstack().plot(kind='bar', ax=ax2[0], rot=0)\n",
    "animals[['Neutered', 'OutcomeType']].groupby(['Neutered', 'OutcomeType']).size().unstack().plot(kind='bar', ax=ax2[1], rot=0)"
   ]
  },
  {
   "cell_type": "code",
   "execution_count": null,
   "metadata": {},
   "outputs": [],
   "source": [
    "_, (ax1, ax2) = plt.subplots(2, 2, figsize=(16, 8))\n",
    "sns.countplot(data=animals, x='OutcomeType', hue='Sex', ax=ax1[0])\n",
    "sns.countplot(data=animals, x='Sex', hue='OutcomeType', ax=ax1[1])\n",
    "sns.countplot(data=animals, x='OutcomeType', hue='Neutered', ax=ax2[0])\n",
    "sns.countplot(data=animals, x='Neutered', hue='OutcomeType', ax=ax2[1])"
   ]
  },
  {
   "cell_type": "markdown",
   "metadata": {},
   "source": [
    "ช่วงเวลาก็อาจจะมีส่วนในการตัดสินใจ?"
   ]
  },
  {
   "cell_type": "code",
   "execution_count": null,
   "metadata": {},
   "outputs": [],
   "source": [
    "animals['Converted-DateTime'] = pd.to_datetime(animals[\"DateTime\"]).dt.date"
   ]
  },
  {
   "cell_type": "code",
   "execution_count": null,
   "metadata": {},
   "outputs": [],
   "source": [
    "animals.head(1)"
   ]
  },
  {
   "cell_type": "code",
   "execution_count": null,
   "metadata": {},
   "outputs": [],
   "source": [
    "animals.info()"
   ]
  },
  {
   "cell_type": "code",
   "execution_count": null,
   "metadata": {},
   "outputs": [],
   "source": [
    "monthGroup = animals[\"Converted-DateTime\"].groupby(animals[\"OutcomeType\"])"
   ]
  },
  {
   "cell_type": "code",
   "execution_count": null,
   "metadata": {
    "scrolled": false
   },
   "outputs": [],
   "source": [
    "f, ax = plt.subplots(5, 1, figsize=(16, 17))\n",
    "\n",
    "animals[animals.OutcomeType == 'Adoption'].groupby('Converted-DateTime')['Converted-DateTime'].count().plot(ax=ax[0])\n",
    "animals[animals.OutcomeType == 'Died'].groupby('Converted-DateTime')['Converted-DateTime'].count().plot(ax=ax[1])\n",
    "animals[animals.OutcomeType == 'Euthanasia'].groupby('Converted-DateTime')['Converted-DateTime'].count().plot(ax=ax[2])\n",
    "animals[animals.OutcomeType == 'Return_to_owner'].groupby('Converted-DateTime')['Converted-DateTime'].count().plot(ax=ax[3])\n",
    "animals[animals.OutcomeType == 'Transfer'].groupby('Converted-DateTime')['Converted-DateTime'].count().plot(ax=ax[4])"
   ]
  },
  {
   "cell_type": "code",
   "execution_count": null,
   "metadata": {
    "scrolled": true
   },
   "outputs": [],
   "source": [
    "f, ax = plt.subplots(5, 1, figsize=(16, 17))\n",
    "\n",
    "month_group = animals['Converted-DateTime'].groupby(animals['OutcomeType'])\n",
    "for i, g in enumerate(month_group):\n",
    "    g[1].groupby(animals['Converted-DateTime']).count().plot(ax=ax[i])"
   ]
  },
  {
   "cell_type": "code",
   "execution_count": null,
   "metadata": {},
   "outputs": [],
   "source": [
    "animals.head(3)"
   ]
  },
  {
   "cell_type": "code",
   "execution_count": null,
   "metadata": {},
   "outputs": [],
   "source": [
    "X = animals.drop(['AnimalID', 'Name', 'DateTime', 'OutcomeType', 'OutcomeSubtype', 'SexuponOutcome', 'AgeuponOutcome', 'Converted-DateTime'], axis=1)\n",
    "y = animals['OutcomeType']"
   ]
  },
  {
   "cell_type": "code",
   "execution_count": null,
   "metadata": {},
   "outputs": [],
   "source": [
    "X.head()"
   ]
  },
  {
   "cell_type": "code",
   "execution_count": null,
   "metadata": {},
   "outputs": [],
   "source": [
    "y.head()"
   ]
  },
  {
   "cell_type": "code",
   "execution_count": null,
   "metadata": {},
   "outputs": [],
   "source": [
    "X.isnull().sum()"
   ]
  },
  {
   "cell_type": "code",
   "execution_count": null,
   "metadata": {},
   "outputs": [],
   "source": [
    "X.count()"
   ]
  },
  {
   "cell_type": "code",
   "execution_count": null,
   "metadata": {},
   "outputs": [],
   "source": [
    "y.count()"
   ]
  },
  {
   "cell_type": "code",
   "execution_count": null,
   "metadata": {},
   "outputs": [],
   "source": [
    "animals_test = pd.read_csv(\"data/shelter-test.csv\")"
   ]
  },
  {
   "cell_type": "code",
   "execution_count": null,
   "metadata": {},
   "outputs": [],
   "source": [
    "from sklearn import preprocessing\n",
    "\n",
    "le_animal_type = preprocessing.LabelEncoder()\n",
    "le_animal_type.fit(X.AnimalType)\n",
    "X.AnimalType = le_animal_type.transform(X.AnimalType)"
   ]
  },
  {
   "cell_type": "code",
   "execution_count": null,
   "metadata": {},
   "outputs": [],
   "source": [
    "le_sex = preprocessing.LabelEncoder()\n",
    "le_sex.fit(X.Sex)\n",
    "X.Sex = le_sex.transform(X.Sex)\n",
    "\n",
    "le_neutered = preprocessing.LabelEncoder()\n",
    "le_neutered.fit(X.Neutered)\n",
    "X.Neutered = le_neutered.transform(X.Neutered)\n",
    "\n",
    "le_breed = preprocessing.LabelEncoder()\n",
    "le_breed.fit(X.Breed.append(animals_test.Breed))\n",
    "X.Breed = le_breed.transform(X.Breed)\n",
    "\n",
    "le_color = preprocessing.LabelEncoder()\n",
    "le_color.fit(X.Color.append(animals_test.Color))\n",
    "X.Color = le_color.transform(X.Color)\n",
    "\n",
    "le_out = preprocessing.LabelEncoder()\n",
    "le_out.fit(y)\n",
    "y = le_out.transform(y)"
   ]
  },
  {
   "cell_type": "code",
   "execution_count": null,
   "metadata": {},
   "outputs": [],
   "source": [
    "X.head()"
   ]
  },
  {
   "cell_type": "code",
   "execution_count": null,
   "metadata": {},
   "outputs": [],
   "source": [
    "y"
   ]
  },
  {
   "cell_type": "code",
   "execution_count": null,
   "metadata": {},
   "outputs": [],
   "source": [
    "le_out.inverse_transform(y)"
   ]
  },
  {
   "cell_type": "code",
   "execution_count": null,
   "metadata": {},
   "outputs": [],
   "source": [
    "from sklearn import model_selection, neighbors\n",
    "\n",
    "k_range = list(range(1, 31))\n",
    "param_grid = dict(n_neighbors=k_range)\n",
    "\n",
    "knn = neighbors.KNeighborsClassifier()\n",
    "grid = model_selection.GridSearchCV(knn, param_grid, cv=3, scoring='accuracy', return_train_score=True)\n",
    "grid.fit(X, y)\n",
    "\n",
    "grid_mean_scores = [result for result in grid.cv_results_['mean_test_score']]"
   ]
  },
  {
   "cell_type": "code",
   "execution_count": null,
   "metadata": {},
   "outputs": [],
   "source": [
    "print(grid.best_score_)\n",
    "print(grid.best_params_)\n",
    "print(grid.best_estimator_)"
   ]
  },
  {
   "cell_type": "markdown",
   "metadata": {},
   "source": [
    "**Warning:** Cross validation for Randorm Forest classifier takes time."
   ]
  },
  {
   "cell_type": "code",
   "execution_count": null,
   "metadata": {},
   "outputs": [],
   "source": [
    "from sklearn import model_selection, ensemble\n",
    "\n",
    "n_range = [1000, 1500]\n",
    "param_grid = dict(n_estimators=n_range)\n",
    "\n",
    "rf = ensemble.RandomForestClassifier()\n",
    "grid = model_selection.GridSearchCV(rf, param_grid, cv=3, scoring='accuracy', return_train_score=True)\n",
    "grid.fit(X, y)\n",
    "\n",
    "grid_mean_scores = [result for result in grid.cv_results_['mean_test_score']]"
   ]
  },
  {
   "cell_type": "code",
   "execution_count": null,
   "metadata": {},
   "outputs": [],
   "source": [
    "plt.plot(n_range, grid_mean_scores)\n",
    "plt.xlabel('Value of estimators for Random Forest')\n",
    "plt.ylabel('Cross-Validated Accuracy')"
   ]
  },
  {
   "cell_type": "code",
   "execution_count": null,
   "metadata": {},
   "outputs": [],
   "source": [
    "print(grid.best_score_)\n",
    "print(grid.best_params_)\n",
    "print(grid.best_estimator_)"
   ]
  },
  {
   "cell_type": "markdown",
   "metadata": {},
   "source": [
    "## ลองใช้โมเดลกับชุดข้อมูลทดสอบ"
   ]
  },
  {
   "cell_type": "code",
   "execution_count": null,
   "metadata": {},
   "outputs": [],
   "source": [
    "animals_test = pd.read_csv('data/shelter-test.csv')\n",
    "animals_test.head()"
   ]
  },
  {
   "cell_type": "code",
   "execution_count": null,
   "metadata": {},
   "outputs": [],
   "source": [
    "animals_test['AgeInDays'] = animals_test.AgeuponOutcome.map(get_age_in_days)\n",
    "animals_test['Sex'] = animals_test.SexuponOutcome.apply(get_sex)\n",
    "animals_test['Neutered'] = animals_test.SexuponOutcome.apply(get_neutered)"
   ]
  },
  {
   "cell_type": "code",
   "execution_count": null,
   "metadata": {},
   "outputs": [],
   "source": [
    "animals_test.head(3)"
   ]
  },
  {
   "cell_type": "code",
   "execution_count": null,
   "metadata": {},
   "outputs": [],
   "source": [
    "X_test = animals_test.drop(['ID', 'Name', 'DateTime', 'SexuponOutcome', 'AgeuponOutcome'], axis=1)"
   ]
  },
  {
   "cell_type": "code",
   "execution_count": null,
   "metadata": {},
   "outputs": [],
   "source": [
    "X_test.AnimalType = le_animal_type.transform(X_test.AnimalType)\n",
    "X_test.Sex = le_sex.transform(X_test.Sex)\n",
    "X_test.Neutered = le_neutered.transform(X_test.Neutered)\n",
    "X_test.Breed = le_breed.transform(X_test.Breed)\n",
    "X_test.Color = le_color.transform(X_test.Color)"
   ]
  },
  {
   "cell_type": "code",
   "execution_count": null,
   "metadata": {},
   "outputs": [],
   "source": [
    "X_test.head()"
   ]
  },
  {
   "cell_type": "code",
   "execution_count": null,
   "metadata": {},
   "outputs": [],
   "source": [
    "from sklearn import ensemble\n",
    "\n",
    "rf = ensemble.RandomForestClassifier(n_estimators=1000)\n",
    "\n",
    "rf.fit(X, y)\n",
    "\n",
    "y_pred_class = rf.predict(X_test)"
   ]
  },
  {
   "cell_type": "code",
   "execution_count": null,
   "metadata": {},
   "outputs": [],
   "source": [
    "rf.feature_importances_"
   ]
  },
  {
   "cell_type": "code",
   "execution_count": null,
   "metadata": {},
   "outputs": [],
   "source": [
    "y_pred_class"
   ]
  },
  {
   "cell_type": "code",
   "execution_count": null,
   "metadata": {},
   "outputs": [],
   "source": [
    "y_pred_class = le_out.inverse_transform(y_pred_class)\n",
    "y_pred_class"
   ]
  },
  {
   "cell_type": "markdown",
   "metadata": {},
   "source": [
    "สร้างไฟล์ submission เตรียมส่ง Kaggle"
   ]
  },
  {
   "cell_type": "code",
   "execution_count": null,
   "metadata": {},
   "outputs": [],
   "source": [
    "import csv\n",
    "\n",
    "def create_submission(y_pred_class):\n",
    "    f = open('output/submission.csv', 'w')\n",
    "    filewrite = csv.writer(f)\n",
    "    filewrite.writerow(['ID', 'Adoption', 'Died', 'Euthanasia', 'Return_to_owner', 'Transfer'])\n",
    "    for index, each in enumerate(y_pred_class):\n",
    "        result = [str(index + 1)]\n",
    "        if each == 'Adoption':\n",
    "            result.append(1)\n",
    "        else:\n",
    "            result.append(0)\n",
    "        if each == 'Died':\n",
    "            result.append(1)\n",
    "        else:\n",
    "            result.append(0)\n",
    "        if each == 'Euthanasia':\n",
    "            result.append(1)\n",
    "        else:\n",
    "            result.append(0)\n",
    "        if each == 'Return_to_owner':\n",
    "            result.append(1)\n",
    "        else:\n",
    "            result.append(0)\n",
    "        if each == 'Transfer':\n",
    "            result.append(1)\n",
    "        else:\n",
    "            result.append(0)\n",
    "            \n",
    "        filewrite.writerow(result)\n",
    "        \n",
    "    f.close()"
   ]
  },
  {
   "cell_type": "code",
   "execution_count": null,
   "metadata": {},
   "outputs": [],
   "source": [
    "create_submission(y_pred_class)"
   ]
  }
 ],
 "metadata": {
  "anaconda-cloud": {},
  "kernelspec": {
   "display_name": "Python 3",
   "language": "python",
   "name": "python3"
  },
  "language_info": {
   "codemirror_mode": {
    "name": "ipython",
    "version": 3
   },
   "file_extension": ".py",
   "mimetype": "text/x-python",
   "name": "python",
   "nbconvert_exporter": "python",
   "pygments_lexer": "ipython3",
   "version": "3.7.1"
  }
 },
 "nbformat": 4,
 "nbformat_minor": 2
}

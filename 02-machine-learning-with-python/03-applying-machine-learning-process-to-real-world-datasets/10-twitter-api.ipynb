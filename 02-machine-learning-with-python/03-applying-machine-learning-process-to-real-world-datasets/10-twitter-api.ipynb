{
 "cells": [
  {
   "cell_type": "markdown",
   "metadata": {},
   "source": [
    "# Getting Data from Twitter\n",
    "\n",
    "* สร้าง App ของตัวเองที่ https://apps.twitter.com/ แล้วจะได้ Key ต่างๆ มาใช้งาน\n",
    "* Python Wrapper: https://github.com/bear/python-twitter\n",
    "* Documentation: https://python-twitter.readthedocs.io/en/latest/"
   ]
  },
  {
   "cell_type": "code",
   "execution_count": 1,
   "metadata": {},
   "outputs": [
    {
     "name": "stdout",
     "output_type": "stream",
     "text": [
      "Requirement already satisfied: python-twitter in /Users/zkan/anaconda3/lib/python3.6/site-packages\r\n",
      "Requirement already satisfied: requests-oauthlib in /Users/zkan/anaconda3/lib/python3.6/site-packages (from python-twitter)\r\n",
      "Requirement already satisfied: requests in /Users/zkan/anaconda3/lib/python3.6/site-packages (from python-twitter)\r\n",
      "Requirement already satisfied: future in /Users/zkan/anaconda3/lib/python3.6/site-packages (from python-twitter)\r\n",
      "Requirement already satisfied: oauthlib>=0.6.2 in /Users/zkan/anaconda3/lib/python3.6/site-packages (from requests-oauthlib->python-twitter)\r\n",
      "Requirement already satisfied: chardet<3.1.0,>=3.0.2 in /Users/zkan/anaconda3/lib/python3.6/site-packages (from requests->python-twitter)\r\n",
      "Requirement already satisfied: idna<2.7,>=2.5 in /Users/zkan/anaconda3/lib/python3.6/site-packages (from requests->python-twitter)\r\n",
      "Requirement already satisfied: urllib3<1.23,>=1.21.1 in /Users/zkan/anaconda3/lib/python3.6/site-packages (from requests->python-twitter)\r\n",
      "Requirement already satisfied: certifi>=2017.4.17 in /Users/zkan/anaconda3/lib/python3.6/site-packages (from requests->python-twitter)\r\n"
     ]
    }
   ],
   "source": [
    "!pip install python-twitter"
   ]
  },
  {
   "cell_type": "code",
   "execution_count": 2,
   "metadata": {},
   "outputs": [],
   "source": [
    "CONSUMER_KEY = 'YOUR_CONSUMER_KEY'\n",
    "CONSUMER_SECRET = 'YOUR_CONSUMER_SECRET'\n",
    "ACCESS_TOKEN = 'YOUR_ACCESS_TOKEN'\n",
    "ACCESS_TOKEN_SECRET = 'YOUR_ACCESS_TOKEN_SECRET'"
   ]
  },
  {
   "cell_type": "code",
   "execution_count": 3,
   "metadata": {},
   "outputs": [],
   "source": [
    "import twitter"
   ]
  },
  {
   "cell_type": "code",
   "execution_count": 4,
   "metadata": {},
   "outputs": [],
   "source": [
    "api = twitter.Api(\n",
    "    consumer_key=CONSUMER_KEY,\n",
    "    consumer_secret=CONSUMER_SECRET,\n",
    "    access_token_key=ACCESS_TOKEN,\n",
    "    access_token_secret=ACCESS_TOKEN_SECRET\n",
    ")"
   ]
  },
  {
   "cell_type": "code",
   "execution_count": 5,
   "metadata": {},
   "outputs": [
    {
     "data": {
      "text/plain": [
       "User(ID=62006885, ScreenName=zkancs)"
      ]
     },
     "execution_count": 5,
     "metadata": {},
     "output_type": "execute_result"
    }
   ],
   "source": [
    "api.VerifyCredentials()"
   ]
  },
  {
   "cell_type": "code",
   "execution_count": 6,
   "metadata": {},
   "outputs": [],
   "source": [
    "statuses = api.GetUserTimeline(screen_name='zkancs')"
   ]
  },
  {
   "cell_type": "code",
   "execution_count": 7,
   "metadata": {},
   "outputs": [
    {
     "data": {
      "text/plain": [
       "[Status(ID=967653482751705090, ScreenName=zkancs, Created=Sun Feb 25 06:52:23 +0000 2018, Text='RT @datakitchen_io: Customer Analytics Challenge #4: Data Errors\\n\\n#DataOps\\xa0#Analytics\\xa0#Agile\\xa0#DevOps\\xa0#BigData #StatisticalProcessControl\\xa0…'),\n",
       " Status(ID=967543699826618368, ScreenName=zkancs, Created=Sat Feb 24 23:36:08 +0000 2018, Text='RT @willwolf_: New Blog Post: A Practical Guide to the \"Open-Source Machine Learning Masters\" https://t.co/Be37xEOGHf'),\n",
       " Status(ID=967543552820445185, ScreenName=zkancs, Created=Sat Feb 24 23:35:33 +0000 2018, Text='RT @dataiku: Best practices to migrate batch #ETL to stream processing: a Netflix case study with #Kafka and #Flink | https://t.co/evyCtjbe…'),\n",
       " Status(ID=967179828351791104, ScreenName=zkancs, Created=Fri Feb 23 23:30:15 +0000 2018, Text='“How to Use Data Science to Understand What Makes Wine Taste Good” by @booleanhunter https://t.co/8vd1CMvLLF'),\n",
       " Status(ID=967040683046453251, ScreenName=zkancs, Created=Fri Feb 23 14:17:20 +0000 2018, Text='“Understanding Generative Adversarial Networks” by @naokishibuya https://t.co/k03s0LH4mp')]"
      ]
     },
     "execution_count": 7,
     "metadata": {},
     "output_type": "execute_result"
    }
   ],
   "source": [
    "statuses[0:5]"
   ]
  },
  {
   "cell_type": "code",
   "execution_count": 8,
   "metadata": {},
   "outputs": [
    {
     "data": {
      "text/plain": [
       "[User(ID=541791307, ScreenName=Pingendo),\n",
       " User(ID=924690408491438080, ScreenName=p_fiadino),\n",
       " User(ID=40204021, ScreenName=pauljwalsh),\n",
       " User(ID=259716070, ScreenName=conormyhrvold),\n",
       " User(ID=214490357, ScreenName=alienbasss)]"
      ]
     },
     "execution_count": 8,
     "metadata": {},
     "output_type": "execute_result"
    }
   ],
   "source": [
    "api.GetFollowers(total_count=5)"
   ]
  }
 ],
 "metadata": {
  "anaconda-cloud": {},
  "kernelspec": {
   "display_name": "Python 3",
   "language": "python",
   "name": "python3"
  },
  "language_info": {
   "codemirror_mode": {
    "name": "ipython",
    "version": 3
   },
   "file_extension": ".py",
   "mimetype": "text/x-python",
   "name": "python",
   "nbconvert_exporter": "python",
   "pygments_lexer": "ipython3",
   "version": "3.7.1"
  }
 },
 "nbformat": 4,
 "nbformat_minor": 2
}

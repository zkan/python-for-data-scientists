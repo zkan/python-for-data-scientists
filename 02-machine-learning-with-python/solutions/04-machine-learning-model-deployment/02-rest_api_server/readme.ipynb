{
 "cells": [
  {
   "cell_type": "markdown",
   "metadata": {},
   "source": [
    "## Deploying on PythonAnywhere\n",
    "\n",
    "1. สมัคร https://www.pythonanywhere.com/\n",
    "2. ไปที่แท็บ Web เราจะสามารถ configure ตัว Web server ของเราได้\n",
    "3. ไปที่แท็บ Consoles เพื่อเตรียมเครื่องสำหรับ service ที่เราจะสร้าง เลือก Bash console\n",
    "4. ตรวจสอบว่าเราอยู่ใน directory ที่เราควรอยู่หรือเปล่า directory ควรจะเป็นประมาณนี้ `/home/zkan/mysite`\n",
    "5. รันคำสั่งด้านล่างนี้เพื่อติดตั้ง package ที่ใช้เพื่อสร้าง Web server ของเรา (Flask) และ Scikit-Learn\n",
    "\n",
    "```sh\n",
    "mkvirtualenv --python=/usr/bin/python3.6 my-virtualenv\n",
    "workon my-virtualenv\n",
    "pip install flask scikit-learn\n",
    "```\n",
    "\n",
    "6. อัพโหลดไฟล์ที่จำเป็นต้องใช้ขึ้นไปบน server\n",
    "7. กลับไปที่แท็บ Web เพื่อ configure เครื่อง server ของเราใหม่\n",
    "  1. แก้ไขส่วนของ Virtualenv\n",
    "  2. Restart server\n",
    "\n",
    "## Sending Data\n",
    "\n",
    "```sh\n",
    "curl -X POST -H \"Content-Type: application/json\" -d '{\"data\": [[3, 5, 4, 2]]}' http://<your_domain>/predict\n",
    "curl -X POST -H \"Content-Type: application/json\" -d '{\"data\": [[3, 5, 4, 2], [5, 4, 3, 2]]}' http://<your_domain>/predict\n",
    "```"
   ]
  }
 ],
 "metadata": {
  "kernelspec": {
   "display_name": "Python 3",
   "language": "python",
   "name": "python3"
  },
  "language_info": {
   "codemirror_mode": {
    "name": "ipython",
    "version": 3
   },
   "file_extension": ".py",
   "mimetype": "text/x-python",
   "name": "python",
   "nbconvert_exporter": "python",
   "pygments_lexer": "ipython3",
   "version": "3.7.1"
  }
 },
 "nbformat": 4,
 "nbformat_minor": 2
}

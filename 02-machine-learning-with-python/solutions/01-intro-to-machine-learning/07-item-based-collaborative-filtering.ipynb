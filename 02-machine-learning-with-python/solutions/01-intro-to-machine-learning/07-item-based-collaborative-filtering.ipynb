{
 "cells": [
  {
   "cell_type": "markdown",
   "metadata": {},
   "source": [
    "# Intro to Machine Learning: Recommender - Item-Based Collaborative Filtering"
   ]
  },
  {
   "cell_type": "markdown",
   "metadata": {},
   "source": [
    "## Outline\n",
    "\n",
    "* [Loading Data](#Loading-Data)\n",
    "* [Creating a Pivot Table](#Creating-a-Pivot-Table)\n",
    "* [Measuring Similarity](#Measuring-Similarity)\n",
    "* [Implementing a Recommender](#Implementing-a-Recommender)"
   ]
  },
  {
   "cell_type": "markdown",
   "metadata": {},
   "source": [
    "## Loading Data"
   ]
  },
  {
   "cell_type": "code",
   "execution_count": null,
   "metadata": {},
   "outputs": [],
   "source": [
    "import pandas as pd"
   ]
  },
  {
   "cell_type": "code",
   "execution_count": null,
   "metadata": {},
   "outputs": [],
   "source": [
    "wine_ratings = pd.read_csv('data/wine-reviews.csv')"
   ]
  },
  {
   "cell_type": "code",
   "execution_count": null,
   "metadata": {},
   "outputs": [],
   "source": [
    "wine_ratings.head()"
   ]
  },
  {
   "cell_type": "markdown",
   "metadata": {},
   "source": [
    "---"
   ]
  },
  {
   "cell_type": "markdown",
   "metadata": {},
   "source": [
    "## Creating a Pivot Table"
   ]
  },
  {
   "cell_type": "code",
   "execution_count": null,
   "metadata": {},
   "outputs": [],
   "source": [
    "wine_ratings_pivoted = wine_ratings.pivot(index='username', columns='wine', values='rating').fillna(0)\n",
    "wine_ratings_pivoted"
   ]
  },
  {
   "cell_type": "markdown",
   "metadata": {},
   "source": [
    "---"
   ]
  },
  {
   "cell_type": "markdown",
   "metadata": {},
   "source": [
    "## Measuring Similarity"
   ]
  },
  {
   "cell_type": "code",
   "execution_count": null,
   "metadata": {},
   "outputs": [],
   "source": [
    "from sklearn.metrics.pairwise import cosine_similarity"
   ]
  },
  {
   "cell_type": "code",
   "execution_count": null,
   "metadata": {},
   "outputs": [],
   "source": [
    "cosine_similarity([wine_ratings_pivoted['La Bota de Amontillado 1']], [wine_ratings_pivoted['Manzanilla La Gitana']])"
   ]
  },
  {
   "cell_type": "code",
   "execution_count": null,
   "metadata": {},
   "outputs": [],
   "source": [
    "wine_ratings_pivoted.columns"
   ]
  },
  {
   "cell_type": "markdown",
   "metadata": {},
   "source": [
    "Find a simliarity vector for \"Le Grappin Bagnum Rose 2013\" to see the similarity between this one and the others."
   ]
  },
  {
   "cell_type": "code",
   "execution_count": null,
   "metadata": {},
   "outputs": [],
   "source": [
    "similarity_vector = {}\n",
    "for each in wine_ratings_pivoted.columns:\n",
    "    similarity = cosine_similarity(\n",
    "        [wine_ratings_pivoted[each]], \n",
    "        [wine_ratings_pivoted['Le Grappin Bagnum Rose 2013']]\n",
    "    )[0][0]\n",
    "    similarity_vector[each] = similarity"
   ]
  },
  {
   "cell_type": "code",
   "execution_count": null,
   "metadata": {},
   "outputs": [],
   "source": [
    "similarity_vector"
   ]
  },
  {
   "cell_type": "markdown",
   "metadata": {},
   "source": [
    "Sort wine based on the similarity."
   ]
  },
  {
   "cell_type": "code",
   "execution_count": null,
   "metadata": {},
   "outputs": [],
   "source": [
    "def get_key(item):\n",
    "    return item.key\n",
    "\n",
    "sorted(similarity_vector, key=similarity_vector.get, reverse=True)"
   ]
  },
  {
   "cell_type": "markdown",
   "metadata": {},
   "source": [
    "---"
   ]
  },
  {
   "cell_type": "markdown",
   "metadata": {},
   "source": [
    "## Implementing a Recommender"
   ]
  },
  {
   "cell_type": "markdown",
   "metadata": {},
   "source": [
    "Pick Mari and see if we should recommend \"Le Grappin Bagnum Rose 2013\" to her?"
   ]
  },
  {
   "cell_type": "code",
   "execution_count": null,
   "metadata": {},
   "outputs": [],
   "source": [
    "wine_ratings_pivoted.loc['mari', :]"
   ]
  },
  {
   "cell_type": "code",
   "execution_count": null,
   "metadata": {},
   "outputs": [],
   "source": [
    "ratings = wine_ratings_pivoted.loc[\n",
    "    'mari', [\n",
    "        'Manzanilla La Gitana', \n",
    "        'Molino Real 2002', \n",
    "        'Pol Roger Rose 1998', \n",
    "        'Raveneu Le Clos 1996'\n",
    "    ]\n",
    "]"
   ]
  },
  {
   "cell_type": "code",
   "execution_count": null,
   "metadata": {},
   "outputs": [],
   "source": [
    "ratings"
   ]
  },
  {
   "cell_type": "markdown",
   "metadata": {},
   "source": [
    "Calculate the weighted mean of data\n",
    "\n",
    "$\\{x_1, x_2, \\dots , x_n\\},$\n",
    "\n",
    "where x represents a set of mean values with non-negative weights\n",
    "\n",
    "$\\bar{x} = \\frac{ \\sum\\limits_{i=1}^n w_i x_i}{\\sum\\limits_{i=1}^n w_i}$"
   ]
  },
  {
   "cell_type": "code",
   "execution_count": null,
   "metadata": {},
   "outputs": [],
   "source": [
    "numerator = ((ratings['Manzanilla La Gitana'] * similarity_vector['Manzanilla La Gitana']) + \n",
    "             (ratings['Molino Real 2002'] * similarity_vector['Molino Real 2002']) + \n",
    "             (ratings['Pol Roger Rose 1998'] * similarity_vector['Pol Roger Rose 1998']) + \n",
    "             (ratings['Raveneu Le Clos 1996'] * similarity_vector['Raveneu Le Clos 1996']))\n",
    "denominator = (similarity_vector['Manzanilla La Gitana'] + \n",
    "               similarity_vector['Molino Real 2002'] + \n",
    "               similarity_vector['Pol Roger Rose 1998'] + \n",
    "               similarity_vector['Raveneu Le Clos 1996'])"
   ]
  },
  {
   "cell_type": "code",
   "execution_count": null,
   "metadata": {},
   "outputs": [],
   "source": [
    "weighted_mean = numerator / denominator"
   ]
  },
  {
   "cell_type": "code",
   "execution_count": null,
   "metadata": {},
   "outputs": [],
   "source": [
    "weighted_mean"
   ]
  }
 ],
 "metadata": {
  "anaconda-cloud": {},
  "kernelspec": {
   "display_name": "Python 3",
   "language": "python",
   "name": "python3"
  },
  "language_info": {
   "codemirror_mode": {
    "name": "ipython",
    "version": 3
   },
   "file_extension": ".py",
   "mimetype": "text/x-python",
   "name": "python",
   "nbconvert_exporter": "python",
   "pygments_lexer": "ipython3",
   "version": "3.7.1"
  }
 },
 "nbformat": 4,
 "nbformat_minor": 2
}

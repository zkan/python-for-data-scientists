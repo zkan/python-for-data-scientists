{
 "cells": [
  {
   "cell_type": "markdown",
   "metadata": {},
   "source": [
    "# Getting Familiar with OpenCV"
   ]
  },
  {
   "cell_type": "markdown",
   "metadata": {},
   "source": [
    "Photo Credit: https://www.wideopenpets.com/new-puppy-owner-hires-professional-photographer-and-omg/"
   ]
  },
  {
   "cell_type": "code",
   "execution_count": null,
   "metadata": {},
   "outputs": [],
   "source": [
    "!pip install opencv-python imutils"
   ]
  },
  {
   "cell_type": "code",
   "execution_count": null,
   "metadata": {},
   "outputs": [],
   "source": [
    "%matplotlib inline\n",
    "import cv2\n",
    "import matplotlib.pyplot as plt"
   ]
  },
  {
   "cell_type": "markdown",
   "metadata": {},
   "source": [
    "## Loading and Showing Image"
   ]
  },
  {
   "cell_type": "code",
   "execution_count": null,
   "metadata": {},
   "outputs": [],
   "source": [
    "image = cv2.imread('data/golden-puppy.png')\n",
    "(h, w, d) = image.shape\n",
    "print(f'width={w}, height={h}, depth={d}')\n",
    "\n",
    "# Use this code below when run Python code from command line\n",
    "# cv2.imshow('Image', image)\n",
    "# cv2.waitKey(0)\n",
    "\n",
    "# In Jupyter notebook, we need to use Matplotlib to show an image\n",
    "plt.figure(figsize=(10, 10))\n",
    "rgb_image = cv2.cvtColor(image, cv2.COLOR_BGR2RGB)\n",
    "plt.imshow(rgb_image);"
   ]
  },
  {
   "cell_type": "markdown",
   "metadata": {},
   "source": [
    "## Accessing Individual Pixel"
   ]
  },
  {
   "cell_type": "code",
   "execution_count": null,
   "metadata": {},
   "outputs": [],
   "source": [
    "(B, G, R) = image[100, 50]\n",
    "print(f'R={R}, G={G}, B={B}')"
   ]
  },
  {
   "cell_type": "markdown",
   "metadata": {},
   "source": [
    "## Cropping Image"
   ]
  },
  {
   "cell_type": "code",
   "execution_count": null,
   "metadata": {},
   "outputs": [],
   "source": [
    "roi = image[110:390, 290:470]\n",
    "\n",
    "plt.figure(figsize=(5, 5))\n",
    "rgb_image = cv2.cvtColor(roi, cv2.COLOR_BGR2RGB)\n",
    "plt.imshow(rgb_image);"
   ]
  },
  {
   "cell_type": "markdown",
   "metadata": {},
   "source": [
    "## Resizing Image"
   ]
  },
  {
   "cell_type": "code",
   "execution_count": null,
   "metadata": {},
   "outputs": [],
   "source": [
    "resized = cv2.resize(image, (300, 150))\n",
    "\n",
    "plt.figure(figsize=(10, 10))\n",
    "rgb_image = cv2.cvtColor(resized, cv2.COLOR_BGR2RGB)\n",
    "plt.imshow(rgb_image);"
   ]
  },
  {
   "cell_type": "code",
   "execution_count": null,
   "metadata": {},
   "outputs": [],
   "source": [
    "import imutils"
   ]
  },
  {
   "cell_type": "code",
   "execution_count": null,
   "metadata": {},
   "outputs": [],
   "source": [
    "resized = imutils.resize(image, width=300)\n",
    "\n",
    "plt.figure(figsize=(10, 10))\n",
    "rgb_image = cv2.cvtColor(resized, cv2.COLOR_BGR2RGB)\n",
    "plt.imshow(rgb_image);"
   ]
  },
  {
   "cell_type": "markdown",
   "metadata": {},
   "source": [
    "## Rotating Image"
   ]
  },
  {
   "cell_type": "code",
   "execution_count": null,
   "metadata": {},
   "outputs": [],
   "source": [
    "center = (w // 2, h // 2)\n",
    "M = cv2.getRotationMatrix2D(center, -45, 1.0)\n",
    "rotated = cv2.warpAffine(image, M, (w, h))\n",
    "\n",
    "plt.figure(figsize=(10, 10))\n",
    "rgb_image = cv2.cvtColor(rotated, cv2.COLOR_BGR2RGB)\n",
    "plt.imshow(rgb_image);"
   ]
  },
  {
   "cell_type": "code",
   "execution_count": null,
   "metadata": {},
   "outputs": [],
   "source": [
    "rotated = imutils.rotate(image, -45)\n",
    "\n",
    "plt.figure(figsize=(10, 10))\n",
    "rgb_image = cv2.cvtColor(rotated, cv2.COLOR_BGR2RGB)\n",
    "plt.imshow(rgb_image);"
   ]
  },
  {
   "cell_type": "code",
   "execution_count": null,
   "metadata": {},
   "outputs": [],
   "source": [
    "rotated = imutils.rotate_bound(image, 45)\n",
    "\n",
    "plt.figure(figsize=(10, 10))\n",
    "rgb_image = cv2.cvtColor(rotated, cv2.COLOR_BGR2RGB)\n",
    "plt.imshow(rgb_image);"
   ]
  },
  {
   "cell_type": "markdown",
   "metadata": {},
   "source": [
    "## Applying Filters on Image"
   ]
  },
  {
   "cell_type": "code",
   "execution_count": null,
   "metadata": {},
   "outputs": [],
   "source": [
    "output = image.copy()\n",
    "blurred = cv2.GaussianBlur(output, (15, 15), 0)\n",
    "gray = cv2.cvtColor(output, cv2.COLOR_BGR2GRAY)\n",
    "sobelx = cv2.Sobel(gray, cv2.CV_64F, 1, 0, ksize=5)\n",
    "sobely = cv2.Sobel(gray, cv2.CV_64F, 0, 1, ksize=5)\n",
    "\n",
    "plt.figure(figsize=(20, 15))\n",
    "plt.subplot(1, 3, 1)\n",
    "rgb_image = cv2.cvtColor(blurred, cv2.COLOR_BGR2RGB)\n",
    "plt.imshow(rgb_image)\n",
    "plt.subplot(1, 3, 2)\n",
    "plt.imshow(sobelx, cmap='gray')\n",
    "plt.subplot(1, 3, 3)\n",
    "plt.imshow(sobely, cmap='gray');"
   ]
  },
  {
   "cell_type": "markdown",
   "metadata": {},
   "source": [
    "## Drawing on Image"
   ]
  },
  {
   "cell_type": "code",
   "execution_count": null,
   "metadata": {},
   "outputs": [],
   "source": [
    "output = image.copy()\n",
    "cv2.rectangle(output, (290, 110), (470, 390), (0, 0, 255), 5)\n",
    "\n",
    "plt.figure(figsize=(10, 10))\n",
    "rgb_image = cv2.cvtColor(output, cv2.COLOR_BGR2RGB)\n",
    "plt.imshow(rgb_image);"
   ]
  },
  {
   "cell_type": "code",
   "execution_count": null,
   "metadata": {},
   "outputs": [],
   "source": [
    "output = image.copy()\n",
    "cv2.putText(output, '<Hello World \\>', (265, 100), cv2.FONT_HERSHEY_SIMPLEX, 1.0, (0, 255, 0), 3)\n",
    "\n",
    "plt.figure(figsize=(10, 10))\n",
    "rgb_image = cv2.cvtColor(output, cv2.COLOR_BGR2RGB)\n",
    "plt.imshow(rgb_image);"
   ]
  }
 ],
 "metadata": {
  "kernelspec": {
   "display_name": "Python 3",
   "language": "python",
   "name": "python3"
  },
  "language_info": {
   "codemirror_mode": {
    "name": "ipython",
    "version": 3
   },
   "file_extension": ".py",
   "mimetype": "text/x-python",
   "name": "python",
   "nbconvert_exporter": "python",
   "pygments_lexer": "ipython3",
   "version": "3.7.1"
  }
 },
 "nbformat": 4,
 "nbformat_minor": 2
}

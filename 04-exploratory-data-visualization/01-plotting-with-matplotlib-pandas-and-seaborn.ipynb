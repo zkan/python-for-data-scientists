{
 "cells": [
  {
   "cell_type": "markdown",
   "metadata": {},
   "source": [
    "# Pandas for Data Analysis: Plotting with Matplotlib, Pandas, and Seaborn"
   ]
  },
  {
   "cell_type": "markdown",
   "metadata": {
    "collapsed": true
   },
   "source": [
    "## Outline:\n",
    "\n",
    "* [Plotting using Packages](#Plotting-using-Packages)\n",
    "  * [Matplotlib](#Matplotlib)\n",
    "  * [Pandas](#Pandas)\n",
    "  * [Seaborn](#Seaborn)\n",
    "* [Plotting Data](#Plotting-Data)"
   ]
  },
  {
   "cell_type": "markdown",
   "metadata": {},
   "source": [
    "## Plotting using Packages"
   ]
  },
  {
   "cell_type": "markdown",
   "metadata": {},
   "source": [
    "### Matplotlib"
   ]
  },
  {
   "cell_type": "code",
   "execution_count": null,
   "metadata": {},
   "outputs": [],
   "source": [
    "%matplotlib inline\n",
    "\n",
    "import matplotlib.pyplot as plt\n",
    "import numpy as np"
   ]
  },
  {
   "cell_type": "code",
   "execution_count": null,
   "metadata": {},
   "outputs": [],
   "source": [
    "plt.plot()"
   ]
  },
  {
   "cell_type": "code",
   "execution_count": null,
   "metadata": {},
   "outputs": [],
   "source": [
    "x = np.linspace(0, 10)\n",
    "y = np.linspace(0, 5)\n",
    "\n",
    "plt.plot(x, y, label='linear')\n",
    "plt.legend()"
   ]
  },
  {
   "cell_type": "code",
   "execution_count": null,
   "metadata": {},
   "outputs": [],
   "source": [
    "x = [1, 7, 3, 4]\n",
    "y = [1, 3, 4, 5]\n",
    "plt.scatter(x, y, color='darkgreen', marker='o')"
   ]
  },
  {
   "cell_type": "code",
   "execution_count": null,
   "metadata": {},
   "outputs": [],
   "source": [
    "_, ax = plt.subplots()\n",
    "\n",
    "x = [1, 7, 3, 4]\n",
    "y = [1, 3, 4, 5]\n",
    "\n",
    "ax.scatter(x, y, color='darkgreen', marker='o')"
   ]
  },
  {
   "cell_type": "code",
   "execution_count": null,
   "metadata": {},
   "outputs": [],
   "source": [
    "fig = plt.figure(figsize=(20, 10))\n",
    "\n",
    "ax1 = fig.add_subplot(121)\n",
    "ax2 = fig.add_subplot(122)\n",
    "\n",
    "x = [1, 2, 3]\n",
    "y = [3, 4, 5]\n",
    "\n",
    "ax1.bar(x, y)\n",
    "ax2.barh(x, y)"
   ]
  },
  {
   "cell_type": "code",
   "execution_count": null,
   "metadata": {},
   "outputs": [],
   "source": [
    "fig, (ax1, ax2) = plt.subplots(1, 2, figsize=(20, 10))\n",
    "\n",
    "x = [1, 2, 3]\n",
    "y = [3, 4, 5]\n",
    "\n",
    "ax1.bar(x, y)\n",
    "ax2.barh(x, y)"
   ]
  },
  {
   "cell_type": "code",
   "execution_count": null,
   "metadata": {},
   "outputs": [],
   "source": [
    "x = np.arange(4)\n",
    "money = [1.5e5, 2.5e6, 5.5e6, 2.0e7]\n",
    "\n",
    "plt.bar(x, money)\n",
    "plt.xticks(x, ('A', 'B', 'C', 'D'))"
   ]
  },
  {
   "cell_type": "code",
   "execution_count": null,
   "metadata": {},
   "outputs": [],
   "source": [
    "gaussian_numbers = np.random.randn(1000)\n",
    "plt.hist(gaussian_numbers)"
   ]
  },
  {
   "cell_type": "code",
   "execution_count": null,
   "metadata": {},
   "outputs": [],
   "source": [
    "data = np.random.randn(1000)\n",
    "plt.boxplot(data)"
   ]
  },
  {
   "cell_type": "code",
   "execution_count": null,
   "metadata": {},
   "outputs": [],
   "source": [
    "plt.boxplot([data, data, data])"
   ]
  },
  {
   "cell_type": "code",
   "execution_count": null,
   "metadata": {},
   "outputs": [],
   "source": [
    "np.random.seed(10)\n",
    "d1 = np.random.normal(100, 10, 200)\n",
    "d2 = np.random.normal(80, 30, 200)\n",
    "d3 = np.random.normal(90, 20, 200)\n",
    "d4 = np.random.normal(70, 25, 200)\n",
    "\n",
    "data_to_plot_1 = [d1, d2, d3, d4]\n",
    "data_to_plot_2 = [d4, d3, d2, d1]\n",
    "\n",
    "_, (ax1, ax2) = plt.subplots(1, 2, figsize=(20, 10))\n",
    "\n",
    "ax1.boxplot(data_to_plot_1)\n",
    "ax1.set_xticklabels(['Sample1', 'Sample2', 'Sample3', 'Sample4'])\n",
    "\n",
    "ax2.boxplot(data_to_plot_2)\n",
    "ax2.set_xticklabels(['Sample4', 'Sample3', 'Sample2', 'Sample1'])"
   ]
  },
  {
   "cell_type": "markdown",
   "metadata": {},
   "source": [
    "### Pandas"
   ]
  },
  {
   "cell_type": "code",
   "execution_count": null,
   "metadata": {},
   "outputs": [],
   "source": [
    "import pandas as pd"
   ]
  },
  {
   "cell_type": "code",
   "execution_count": null,
   "metadata": {},
   "outputs": [],
   "source": [
    "df = pd.DataFrame(data={\n",
    "    'x': np.linspace(0, 10),\n",
    "    'y': np.linspace(0, 5)    \n",
    "})\n",
    "df.plot(x='x', y='y', marker='.')"
   ]
  },
  {
   "cell_type": "code",
   "execution_count": null,
   "metadata": {},
   "outputs": [],
   "source": [
    "df = pd.DataFrame(data={\n",
    "    'x': [1, 7, 3, 4],\n",
    "    'y': [1, 3, 4, 5]\n",
    "})\n",
    "df.plot.scatter(x='x', y='y')"
   ]
  },
  {
   "cell_type": "code",
   "execution_count": null,
   "metadata": {},
   "outputs": [],
   "source": [
    "df = pd.DataFrame(data={\n",
    "    'x': [1, 2, 3],\n",
    "    'y': [3, 4, 5]\n",
    "})\n",
    "\n",
    "_, (ax1, ax2) = plt.subplots(1, 2, figsize=(10, 6))\n",
    "\n",
    "df.plot.bar(x='x', y='y', ax=ax1, legend=False)\n",
    "df.plot.barh(x='x', y='y', ax=ax2, legend=False)"
   ]
  },
  {
   "cell_type": "code",
   "execution_count": null,
   "metadata": {},
   "outputs": [],
   "source": [
    "df = pd.DataFrame(data={\n",
    "    'x': [1, 2, 3, 4],\n",
    "    'money': [1.5e5, 2.5e6, 5.5e6, 2.0e7]\n",
    "})\n",
    "\n",
    "df.plot.bar(x='x', y='money', legend=False)\n",
    "plt.xticks(x, ('A', 'B', 'C', 'D'))"
   ]
  },
  {
   "cell_type": "code",
   "execution_count": null,
   "metadata": {},
   "outputs": [],
   "source": [
    "df = pd.DataFrame(data={\n",
    "    'x': np.random.randn(1000)\n",
    "})\n",
    "df.hist()"
   ]
  },
  {
   "cell_type": "code",
   "execution_count": null,
   "metadata": {},
   "outputs": [],
   "source": [
    "df = pd.DataFrame(data={\n",
    "    'd1': np.random.normal(100, 10, 200),\n",
    "    'd2': np.random.normal(80, 30, 200),\n",
    "    'd3': np.random.normal(90, 20, 200),\n",
    "    'd4': np.random.normal(70, 25, 200)\n",
    "})\n",
    "df.boxplot(column=['d1', 'd2', 'd3', 'd4'])"
   ]
  },
  {
   "cell_type": "markdown",
   "metadata": {},
   "source": [
    "### Seaborn"
   ]
  },
  {
   "cell_type": "code",
   "execution_count": null,
   "metadata": {},
   "outputs": [],
   "source": [
    "import pandas as pd\n",
    "import seaborn as sns"
   ]
  },
  {
   "cell_type": "code",
   "execution_count": null,
   "metadata": {},
   "outputs": [],
   "source": [
    "df = pd.DataFrame(data={\n",
    "    'x': np.linspace(0, 10),\n",
    "    'y': np.linspace(0, 5)    \n",
    "})\n",
    "sns.lineplot(data=df, x='x', y='y')"
   ]
  },
  {
   "cell_type": "code",
   "execution_count": null,
   "metadata": {},
   "outputs": [],
   "source": [
    "df = pd.DataFrame(data={\n",
    "    'x': [1, 7, 3, 4],\n",
    "    'y': [1, 3, 4, 5]\n",
    "})\n",
    "sns.scatterplot(data=df, x='x', y='y')"
   ]
  },
  {
   "cell_type": "code",
   "execution_count": null,
   "metadata": {},
   "outputs": [],
   "source": [
    "df = pd.DataFrame(data={\n",
    "    'x': [1, 2, 3],\n",
    "    'y': [3, 4, 5]\n",
    "})\n",
    "\n",
    "_, (ax1, ax2) = plt.subplots(1, 2, figsize=(10, 6))\n",
    "\n",
    "sns.barplot(data=df, x='x', y='y', ax=ax1)\n",
    "sns.barplot(data=df, x='y', y='x', ax=ax2, orient='h', order=[3, 2, 1])"
   ]
  },
  {
   "cell_type": "code",
   "execution_count": null,
   "metadata": {},
   "outputs": [],
   "source": [
    "df = pd.DataFrame(data={\n",
    "    'x': [1, 2, 3, 4],\n",
    "    'money': [1.5e5, 2.5e6, 5.5e6, 2.0e7]\n",
    "})\n",
    "\n",
    "sns.barplot(data=df, x='x', y='money')\n",
    "plt.xticks(x, ('A', 'B', 'C', 'D'))"
   ]
  },
  {
   "cell_type": "code",
   "execution_count": null,
   "metadata": {},
   "outputs": [],
   "source": [
    "df = pd.DataFrame(data={\n",
    "    'x': np.random.randn(1000)\n",
    "})\n",
    "sns.distplot(df.x)"
   ]
  },
  {
   "cell_type": "code",
   "execution_count": null,
   "metadata": {},
   "outputs": [],
   "source": [
    "df = pd.DataFrame(data={\n",
    "    'd1': np.random.normal(100, 10, 200),\n",
    "    'd2': np.random.normal(80, 30, 200),\n",
    "    'd3': np.random.normal(90, 20, 200),\n",
    "    'd4': np.random.normal(70, 25, 200)\n",
    "})\n",
    "sns.boxplot(data=df)"
   ]
  },
  {
   "cell_type": "markdown",
   "metadata": {},
   "source": [
    "## Plotting Data"
   ]
  },
  {
   "cell_type": "markdown",
   "metadata": {},
   "source": [
    "### Dataset 1: Amazon Review"
   ]
  },
  {
   "cell_type": "code",
   "execution_count": null,
   "metadata": {},
   "outputs": [],
   "source": [
    "%matplotlib inline\n",
    "\n",
    "import gzip\n",
    "music_review_lines = gzip.open('data/reviews_Digital_Music_5.json.gz', 'rt').readlines()\n",
    "\n",
    "import json\n",
    "df = pd.DataFrame(list(map(json.loads, music_review_lines)))"
   ]
  },
  {
   "cell_type": "code",
   "execution_count": null,
   "metadata": {},
   "outputs": [],
   "source": [
    "df['unixReviewTime'] = pd.to_datetime(df['unixReviewTime'], unit='s')\n",
    "df['quarter'] = df.unixReviewTime.dt.quarter"
   ]
  },
  {
   "cell_type": "markdown",
   "metadata": {},
   "source": [
    "กราฟแสดงจำนวนคนที่มารีวีว"
   ]
  },
  {
   "cell_type": "code",
   "execution_count": null,
   "metadata": {},
   "outputs": [],
   "source": [
    "df.groupby(df.unixReviewTime.dt.year)['reviewerID'].count().plot(figsize=(18, 6))"
   ]
  },
  {
   "cell_type": "markdown",
   "metadata": {},
   "source": [
    "กราฟเปรียบเทียบค่า rating เฉลี่ยในแต่ละวันของอาทิตย์ระหว่างปี 2013 และ 2014"
   ]
  },
  {
   "cell_type": "code",
   "execution_count": null,
   "metadata": {},
   "outputs": [],
   "source": [
    "import matplotlib.pyplot as plt\n",
    "\n",
    "by_weekday = df.groupby([df.unixReviewTime.dt.year, df.unixReviewTime.dt.dayofweek]).mean()\n",
    "\n",
    "_, ax = plt.subplots(1, 2, figsize=(16, 6))\n",
    "\n",
    "by_weekday.loc[2013].plot(title='Average Reviews Rating by Day of Week (2013)', ax=ax[0])\n",
    "ax[0].set_xticklabels(['Mon', 'Tues', 'Wed', 'Thurs', 'Fri', 'Sat', 'Sun'])\n",
    "\n",
    "by_weekday.loc[2014].plot(title='Average Reviews Rating by Day of Week (2014)', ax=ax[1])\n",
    "ax[1].set_xticklabels(['Mon', 'Tues', 'Wed', 'Thurs', 'Fri', 'Sat', 'Sun'])"
   ]
  },
  {
   "cell_type": "markdown",
   "metadata": {},
   "source": [
    "กราฟเปรียบเทียบจำนวนรีวีวต่อวันของเดือนระหว่างปี 2012, 2013 และ 2014"
   ]
  },
  {
   "cell_type": "code",
   "execution_count": null,
   "metadata": {},
   "outputs": [],
   "source": [
    "import matplotlib.pyplot as plt\n",
    "\n",
    "by_month = df.groupby([df.unixReviewTime.dt.year, df.unixReviewTime.dt.day])['reviewerID'].count()\n",
    "\n",
    "_, ax = plt.subplots(1, 3, figsize=(18, 6))\n",
    "\n",
    "by_month.loc[2012].plot(title='Average Reviews by Month (2012)', ax=ax[0]);\n",
    "by_month.loc[2013].plot(title='Average Reviews by Month (2013)', ax=ax[1]);\n",
    "by_month.loc[2014].plot(title='Average Reviews by Month (2014)', ax=ax[2]);"
   ]
  },
  {
   "cell_type": "markdown",
   "metadata": {},
   "source": [
    "### Dataset 2: Titanic"
   ]
  },
  {
   "cell_type": "code",
   "execution_count": null,
   "metadata": {},
   "outputs": [],
   "source": [
    "%matplotlib inline\n",
    "\n",
    "import matplotlib.pyplot as plt"
   ]
  },
  {
   "cell_type": "code",
   "execution_count": null,
   "metadata": {},
   "outputs": [],
   "source": [
    "titanic_data_url = 'http://biostat.mc.vanderbilt.edu/wiki/pub/Main/DataSets/titanic3.csv'\n",
    "titanic = pd.read_csv(titanic_data_url)"
   ]
  },
  {
   "cell_type": "code",
   "execution_count": null,
   "metadata": {},
   "outputs": [],
   "source": [
    "titanic.plot(figsize=(15, 6))"
   ]
  },
  {
   "cell_type": "code",
   "execution_count": null,
   "metadata": {},
   "outputs": [],
   "source": [
    "titanic.hist(figsize=(15, 10))"
   ]
  },
  {
   "cell_type": "code",
   "execution_count": null,
   "metadata": {},
   "outputs": [],
   "source": [
    "titanic.groupby('sex').hist(figsize=(10, 10))"
   ]
  },
  {
   "cell_type": "code",
   "execution_count": null,
   "metadata": {},
   "outputs": [],
   "source": [
    "titanic.boxplot(column=['age'], by='survived', figsize=(6, 6))"
   ]
  },
  {
   "cell_type": "code",
   "execution_count": null,
   "metadata": {},
   "outputs": [],
   "source": [
    "titanic.boxplot(column=['pclass'], by='survived', figsize=(6, 6))"
   ]
  },
  {
   "cell_type": "code",
   "execution_count": null,
   "metadata": {},
   "outputs": [],
   "source": [
    "from pandas.tools.plotting import scatter_matrix\n",
    "\n",
    "scatter_matrix(titanic, alpha=0.2, figsize=(15, 15), diagonal='kde')"
   ]
  },
  {
   "cell_type": "markdown",
   "metadata": {},
   "source": [
    "ลอง Seaborn"
   ]
  },
  {
   "cell_type": "code",
   "execution_count": null,
   "metadata": {},
   "outputs": [],
   "source": [
    "import seaborn as sns"
   ]
  },
  {
   "cell_type": "code",
   "execution_count": null,
   "metadata": {},
   "outputs": [],
   "source": [
    "sns.distplot(titanic.age.dropna())"
   ]
  },
  {
   "cell_type": "code",
   "execution_count": null,
   "metadata": {},
   "outputs": [],
   "source": [
    "sns.barplot(x=\"sex\", y=\"survived\", hue=\"pclass\", data=titanic)"
   ]
  },
  {
   "cell_type": "code",
   "execution_count": null,
   "metadata": {},
   "outputs": [],
   "source": [
    "sns.barplot(x=\"sex\", y=\"survived\", hue=\"pclass\", data=titanic, palette=sns.cubehelix_palette(4, start=0.5, rot=-.75))"
   ]
  },
  {
   "cell_type": "code",
   "execution_count": null,
   "metadata": {},
   "outputs": [],
   "source": [
    "sns.countplot(y=\"embarked\", hue=\"pclass\", data=titanic, palette=\"Greens_d\");"
   ]
  },
  {
   "cell_type": "code",
   "execution_count": null,
   "metadata": {},
   "outputs": [],
   "source": [
    "sns.stripplot(x=titanic.age, y=titanic.fare, hue=titanic.survived)"
   ]
  },
  {
   "cell_type": "code",
   "execution_count": null,
   "metadata": {},
   "outputs": [],
   "source": [
    "g = sns.FacetGrid(titanic, row=\"sex\", col=\"survived\")\n",
    "g.map(plt.hist, 'age')"
   ]
  },
  {
   "cell_type": "code",
   "execution_count": null,
   "metadata": {},
   "outputs": [],
   "source": [
    "g = sns.FacetGrid(titanic, row=\"sex\", col=\"pclass\")\n",
    "g.map(plt.hist, 'survived')"
   ]
  },
  {
   "cell_type": "code",
   "execution_count": null,
   "metadata": {},
   "outputs": [],
   "source": [
    "g = sns.FacetGrid(titanic, row=\"sex\", col=\"survived\")\n",
    "g.map(plt.scatter, 'age', 'parch')"
   ]
  },
  {
   "cell_type": "code",
   "execution_count": null,
   "metadata": {},
   "outputs": [],
   "source": [
    "g = sns.FacetGrid(titanic, row=\"sex\", col=\"survived\")\n",
    "g.map(sns.regplot, 'age', 'parch')"
   ]
  }
 ],
 "metadata": {
  "anaconda-cloud": {},
  "kernelspec": {
   "display_name": "Python 3",
   "language": "python",
   "name": "python3"
  },
  "language_info": {
   "codemirror_mode": {
    "name": "ipython",
    "version": 3
   },
   "file_extension": ".py",
   "mimetype": "text/x-python",
   "name": "python",
   "nbconvert_exporter": "python",
   "pygments_lexer": "ipython3",
   "version": "3.7.1"
  }
 },
 "nbformat": 4,
 "nbformat_minor": 1
}

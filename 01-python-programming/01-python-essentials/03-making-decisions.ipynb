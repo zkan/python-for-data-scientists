{
 "cells": [
  {
   "cell_type": "markdown",
   "metadata": {},
   "source": [
    "# Python Essentials: Making Decisions"
   ]
  },
  {
   "cell_type": "markdown",
   "metadata": {},
   "source": [
    "## Outline:\n",
    "\n",
    "* [Making Decisions](#Making-Decisions)\n",
    "* [Challenges](#Challenges)"
   ]
  },
  {
   "cell_type": "markdown",
   "metadata": {},
   "source": [
    "## Making Decisions"
   ]
  },
  {
   "cell_type": "markdown",
   "metadata": {},
   "source": [
    "| Comparison & Logical Operators | Description                       | Example            |\n",
    "|--------------------------------|-----------------------------------|--------------------|\n",
    "| >                              | Greater than                      |  5 > 3             |\n",
    "| <                              | Less than                         | 5 < 3              |\n",
    "| >=                             | Greater than or equal to          | 5 >= 3             |\n",
    "| <=                             | Less than or equal to             | 5 <= 3             |\n",
    "| ==                             | Equal to                          | 5 == 3             |\n",
    "| !=                             | Not equal to                      | 5 != 3             |\n",
    "| and                            | Change both the conditions        | x > 18 and x <= 35 |\n",
    "| or                             | At least one condition holds True | x > 35 or x < 60   |\n",
    "| not                            | Opposite of condition             | not True           |"
   ]
  },
  {
   "cell_type": "code",
   "execution_count": null,
   "metadata": {},
   "outputs": [],
   "source": [
    "number = 1\n",
    "\n",
    "if number == 1:\n",
    "    print('Yes')\n",
    "else:\n",
    "    print('No')\n",
    "    print('Noooooo')"
   ]
  },
  {
   "cell_type": "code",
   "execution_count": null,
   "metadata": {},
   "outputs": [],
   "source": [
    "people = 20\n",
    "cats = 30\n",
    "dogs = 15\n",
    "\n",
    "if people < cats:\n",
    "    print(\"Too many cats!\")\n",
    "\n",
    "if people > cats:\n",
    "    print(\"Not many cats!\")\n",
    "\n",
    "if people < dogs:\n",
    "    print(\"Too many dogs!\")\n",
    "\n",
    "if people > dogs:\n",
    "    print(\"Not many dogs!\")"
   ]
  },
  {
   "cell_type": "markdown",
   "metadata": {},
   "source": [
    "---"
   ]
  },
  {
   "cell_type": "markdown",
   "metadata": {},
   "source": [
    "## Challenges"
   ]
  },
  {
   "cell_type": "markdown",
   "metadata": {},
   "source": [
    "เขียนโปรแกรม\n",
    "* ถ้าจำนวนรถมีมากกว่าคน ให้แสดงคำว่า \"Let's take the cars.\"\n",
    "* ถ้าจำนวนคนมีมากกว่ารถ ให้แสดงคำว่า \"Let's not take the cars.\"\n",
    "* ถ้ามีจำนวนเท่ากัน ให้แสดงคำว่า \"We can't decide.\""
   ]
  },
  {
   "cell_type": "code",
   "execution_count": null,
   "metadata": {},
   "outputs": [],
   "source": []
  }
 ],
 "metadata": {
  "anaconda-cloud": {},
  "kernelspec": {
   "display_name": "Python 3",
   "language": "python",
   "name": "python3"
  },
  "language_info": {
   "codemirror_mode": {
    "name": "ipython",
    "version": 3
   },
   "file_extension": ".py",
   "mimetype": "text/x-python",
   "name": "python",
   "nbconvert_exporter": "python",
   "pygments_lexer": "ipython3",
   "version": "3.7.1"
  }
 },
 "nbformat": 4,
 "nbformat_minor": 1
}
